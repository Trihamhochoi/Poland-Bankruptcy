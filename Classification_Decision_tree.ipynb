{
 "cells": [
  {
   "cell_type": "code",
   "execution_count": 64,
   "id": "79e807d5-0028-4eaf-9417-f213bf1ae1c2",
   "metadata": {},
   "outputs": [],
   "source": [
    "# Wrangling data\n",
    "from scipy.io import arff\n",
    "import numpy as np\n",
    "import pandas as pd\n",
    "import warnings\n",
    "import re\n",
    "import time\n",
    "import ipywidgets as widgets\n",
    "from ipywidgets import interact\n",
    "\n",
    "# Visualizing the data \n",
    "import matplotlib.pyplot as plt\n",
    "import seaborn as sns\n",
    "import plotly.express as px\n",
    "\n",
    "# Some aggregation to statisticize data \n",
    "from scipy.stats.mstats import trimmed_var\n",
    "from imblearn.over_sampling import RandomOverSampler\n",
    "from imblearn.under_sampling import RandomUnderSampler\n",
    "\n",
    "# Build model\n",
    "from imblearn.pipeline import make_pipeline\n",
    "#from sklearn.pipeline import make_pipeline\n",
    "from sklearn.ensemble import GradientBoostingClassifier, RandomForestClassifier\n",
    "\n",
    "# Evaluate model\n",
    "from sklearn.impute import SimpleImputer\n",
    "from sklearn.metrics import ConfusionMatrixDisplay, classification_report, confusion_matrix\n",
    "from sklearn.model_selection import GridSearchCV, cross_val_score, train_test_split\n",
    "\n",
    "# Save model \n",
    "import pickle"
   ]
  },
  {
   "cell_type": "code",
   "execution_count": 70,
   "id": "c8e67a94-dd1a-4590-b52b-eb6a095eb3cd",
   "metadata": {},
   "outputs": [],
   "source": [
    "%load_ext autoreload\n",
    "%autoreload 2\n",
    "warnings.filterwarnings(action='ignore')\n",
    "pd.options.display.float_format = '{:.3f}'.format"
   ]
  },
  {
   "cell_type": "markdown",
   "id": "a8f1d5e8-55b7-4622-95f3-1dc4b13da128",
   "metadata": {},
   "source": [
    "# Import Data"
   ]
  },
  {
   "cell_type": "code",
   "execution_count": 3,
   "id": "39da00ab-d2ce-49b1-babf-c3b8aa9998df",
   "metadata": {},
   "outputs": [],
   "source": [
    "def wrangle(filename):\n",
    "    \n",
    "    # Open compressed file, load into dictionary\n",
    "    data = arff.loadarff(filename)[0]\n",
    "        \n",
    "    # Load dictionary into DataFrame, set index\n",
    "    df = pd.DataFrame(data=data)\n",
    "    \n",
    "    # Rename columns\n",
    "    df.columns = [re.sub(pattern='Attr',repl='feat_',string=col) for col in df.columns]\n",
    "    df.rename(columns={'class':'bankrupt'},inplace=True)\n",
    "    \n",
    "    # Change dtype of the Labels columns\n",
    "    df['bankrupt'] = df['bankrupt'].astype(np.int64)\n",
    "    return df"
   ]
  },
  {
   "cell_type": "code",
   "execution_count": 4,
   "id": "2adf75f2-51fc-4dc0-aae5-4fa6c2dd8fcf",
   "metadata": {},
   "outputs": [
    {
     "name": "stdout",
     "output_type": "stream",
     "text": [
      "Shape of DataFrame: (10503, 65)\n"
     ]
    },
    {
     "data": {
      "text/html": [
       "<div>\n",
       "<style scoped>\n",
       "    .dataframe tbody tr th:only-of-type {\n",
       "        vertical-align: middle;\n",
       "    }\n",
       "\n",
       "    .dataframe tbody tr th {\n",
       "        vertical-align: top;\n",
       "    }\n",
       "\n",
       "    .dataframe thead th {\n",
       "        text-align: right;\n",
       "    }\n",
       "</style>\n",
       "<table border=\"1\" class=\"dataframe\">\n",
       "  <thead>\n",
       "    <tr style=\"text-align: right;\">\n",
       "      <th></th>\n",
       "      <th>feat_1</th>\n",
       "      <th>feat_2</th>\n",
       "      <th>feat_3</th>\n",
       "      <th>feat_4</th>\n",
       "      <th>feat_5</th>\n",
       "      <th>feat_6</th>\n",
       "      <th>feat_7</th>\n",
       "      <th>feat_8</th>\n",
       "      <th>feat_9</th>\n",
       "      <th>feat_10</th>\n",
       "      <th>...</th>\n",
       "      <th>feat_56</th>\n",
       "      <th>feat_57</th>\n",
       "      <th>feat_58</th>\n",
       "      <th>feat_59</th>\n",
       "      <th>feat_60</th>\n",
       "      <th>feat_61</th>\n",
       "      <th>feat_62</th>\n",
       "      <th>feat_63</th>\n",
       "      <th>feat_64</th>\n",
       "      <th>bankrupt</th>\n",
       "    </tr>\n",
       "  </thead>\n",
       "  <tbody>\n",
       "    <tr>\n",
       "      <th>0</th>\n",
       "      <td>0.174</td>\n",
       "      <td>0.413</td>\n",
       "      <td>0.144</td>\n",
       "      <td>1.348</td>\n",
       "      <td>-28.982</td>\n",
       "      <td>0.604</td>\n",
       "      <td>0.219</td>\n",
       "      <td>1.123</td>\n",
       "      <td>1.196</td>\n",
       "      <td>0.464</td>\n",
       "      <td>...</td>\n",
       "      <td>0.164</td>\n",
       "      <td>0.376</td>\n",
       "      <td>0.836</td>\n",
       "      <td>0.000</td>\n",
       "      <td>9.714</td>\n",
       "      <td>6.281</td>\n",
       "      <td>84.291</td>\n",
       "      <td>4.330</td>\n",
       "      <td>4.034</td>\n",
       "      <td>0</td>\n",
       "    </tr>\n",
       "    <tr>\n",
       "      <th>1</th>\n",
       "      <td>0.146</td>\n",
       "      <td>0.460</td>\n",
       "      <td>0.282</td>\n",
       "      <td>1.629</td>\n",
       "      <td>2.595</td>\n",
       "      <td>0.000</td>\n",
       "      <td>0.172</td>\n",
       "      <td>1.172</td>\n",
       "      <td>1.602</td>\n",
       "      <td>0.540</td>\n",
       "      <td>...</td>\n",
       "      <td>0.028</td>\n",
       "      <td>0.271</td>\n",
       "      <td>0.901</td>\n",
       "      <td>0.000</td>\n",
       "      <td>5.988</td>\n",
       "      <td>4.110</td>\n",
       "      <td>102.190</td>\n",
       "      <td>3.572</td>\n",
       "      <td>5.950</td>\n",
       "      <td>0</td>\n",
       "    </tr>\n",
       "    <tr>\n",
       "      <th>2</th>\n",
       "      <td>0.001</td>\n",
       "      <td>0.226</td>\n",
       "      <td>0.488</td>\n",
       "      <td>3.160</td>\n",
       "      <td>84.874</td>\n",
       "      <td>0.191</td>\n",
       "      <td>0.005</td>\n",
       "      <td>2.988</td>\n",
       "      <td>1.008</td>\n",
       "      <td>0.676</td>\n",
       "      <td>...</td>\n",
       "      <td>0.008</td>\n",
       "      <td>0.001</td>\n",
       "      <td>0.992</td>\n",
       "      <td>0.000</td>\n",
       "      <td>6.774</td>\n",
       "      <td>3.792</td>\n",
       "      <td>64.846</td>\n",
       "      <td>5.629</td>\n",
       "      <td>4.458</td>\n",
       "      <td>0</td>\n",
       "    </tr>\n",
       "    <tr>\n",
       "      <th>3</th>\n",
       "      <td>0.025</td>\n",
       "      <td>0.432</td>\n",
       "      <td>0.275</td>\n",
       "      <td>1.783</td>\n",
       "      <td>-10.105</td>\n",
       "      <td>0.569</td>\n",
       "      <td>0.025</td>\n",
       "      <td>1.306</td>\n",
       "      <td>1.051</td>\n",
       "      <td>0.565</td>\n",
       "      <td>...</td>\n",
       "      <td>0.048</td>\n",
       "      <td>0.043</td>\n",
       "      <td>0.952</td>\n",
       "      <td>0.143</td>\n",
       "      <td>4.229</td>\n",
       "      <td>5.053</td>\n",
       "      <td>98.783</td>\n",
       "      <td>3.695</td>\n",
       "      <td>3.484</td>\n",
       "      <td>0</td>\n",
       "    </tr>\n",
       "    <tr>\n",
       "      <th>4</th>\n",
       "      <td>0.188</td>\n",
       "      <td>0.415</td>\n",
       "      <td>0.342</td>\n",
       "      <td>1.928</td>\n",
       "      <td>-58.274</td>\n",
       "      <td>0.000</td>\n",
       "      <td>0.234</td>\n",
       "      <td>1.409</td>\n",
       "      <td>1.339</td>\n",
       "      <td>0.585</td>\n",
       "      <td>...</td>\n",
       "      <td>0.176</td>\n",
       "      <td>0.322</td>\n",
       "      <td>0.826</td>\n",
       "      <td>0.073</td>\n",
       "      <td>2.591</td>\n",
       "      <td>7.076</td>\n",
       "      <td>100.540</td>\n",
       "      <td>3.630</td>\n",
       "      <td>4.638</td>\n",
       "      <td>0</td>\n",
       "    </tr>\n",
       "  </tbody>\n",
       "</table>\n",
       "<p>5 rows × 65 columns</p>\n",
       "</div>"
      ],
      "text/plain": [
       "   feat_1  feat_2  feat_3  feat_4  feat_5  feat_6  feat_7  feat_8  feat_9  \\\n",
       "0   0.174   0.413   0.144   1.348 -28.982   0.604   0.219   1.123   1.196   \n",
       "1   0.146   0.460   0.282   1.629   2.595   0.000   0.172   1.172   1.602   \n",
       "2   0.001   0.226   0.488   3.160  84.874   0.191   0.005   2.988   1.008   \n",
       "3   0.025   0.432   0.275   1.783 -10.105   0.569   0.025   1.306   1.051   \n",
       "4   0.188   0.415   0.342   1.928 -58.274   0.000   0.234   1.409   1.339   \n",
       "\n",
       "   feat_10  ...  feat_56  feat_57  feat_58  feat_59  feat_60  feat_61  \\\n",
       "0    0.464  ...    0.164    0.376    0.836    0.000    9.714    6.281   \n",
       "1    0.540  ...    0.028    0.271    0.901    0.000    5.988    4.110   \n",
       "2    0.676  ...    0.008    0.001    0.992    0.000    6.774    3.792   \n",
       "3    0.565  ...    0.048    0.043    0.952    0.143    4.229    5.053   \n",
       "4    0.585  ...    0.176    0.322    0.826    0.073    2.591    7.076   \n",
       "\n",
       "   feat_62  feat_63  feat_64  bankrupt  \n",
       "0   84.291    4.330    4.034         0  \n",
       "1  102.190    3.572    5.950         0  \n",
       "2   64.846    5.629    4.458         0  \n",
       "3   98.783    3.695    3.484         0  \n",
       "4  100.540    3.630    4.638         0  \n",
       "\n",
       "[5 rows x 65 columns]"
      ]
     },
     "execution_count": 4,
     "metadata": {},
     "output_type": "execute_result"
    }
   ],
   "source": [
    "file_path = 'dataset/3year.arff'\n",
    "df = wrangle(file_path)\n",
    "bankrupt_df = df.copy()\n",
    "print(\"Shape of DataFrame:\",bankrupt_df.shape)\n",
    "bankrupt_df.head()"
   ]
  },
  {
   "cell_type": "markdown",
   "id": "2b868d0f-343f-487a-9feb-16f6b64a9ae7",
   "metadata": {},
   "source": [
    "# Explore data"
   ]
  },
  {
   "cell_type": "markdown",
   "id": "27ab094f-87fd-4447-af30-1aa22392b2e6",
   "metadata": {},
   "source": [
    "## Overview data"
   ]
  },
  {
   "cell_type": "code",
   "execution_count": 5,
   "id": "f2861a16-2586-4af7-b165-8937f77a7c06",
   "metadata": {},
   "outputs": [
    {
     "name": "stdout",
     "output_type": "stream",
     "text": [
      "<class 'pandas.core.frame.DataFrame'>\n",
      "RangeIndex: 10503 entries, 0 to 10502\n",
      "Data columns (total 65 columns):\n",
      " #   Column    Non-Null Count  Dtype  \n",
      "---  ------    --------------  -----  \n",
      " 0   feat_1    10503 non-null  float64\n",
      " 1   feat_2    10503 non-null  float64\n",
      " 2   feat_3    10503 non-null  float64\n",
      " 3   feat_4    10485 non-null  float64\n",
      " 4   feat_5    10478 non-null  float64\n",
      " 5   feat_6    10503 non-null  float64\n",
      " 6   feat_7    10503 non-null  float64\n",
      " 7   feat_8    10489 non-null  float64\n",
      " 8   feat_9    10500 non-null  float64\n",
      " 9   feat_10   10503 non-null  float64\n",
      " 10  feat_11   10503 non-null  float64\n",
      " 11  feat_12   10485 non-null  float64\n",
      " 12  feat_13   10460 non-null  float64\n",
      " 13  feat_14   10503 non-null  float64\n",
      " 14  feat_15   10495 non-null  float64\n",
      " 15  feat_16   10489 non-null  float64\n",
      " 16  feat_17   10489 non-null  float64\n",
      " 17  feat_18   10503 non-null  float64\n",
      " 18  feat_19   10460 non-null  float64\n",
      " 19  feat_20   10460 non-null  float64\n",
      " 20  feat_21   9696 non-null   float64\n",
      " 21  feat_22   10503 non-null  float64\n",
      " 22  feat_23   10460 non-null  float64\n",
      " 23  feat_24   10276 non-null  float64\n",
      " 24  feat_25   10503 non-null  float64\n",
      " 25  feat_26   10489 non-null  float64\n",
      " 26  feat_27   9788 non-null   float64\n",
      " 27  feat_28   10275 non-null  float64\n",
      " 28  feat_29   10503 non-null  float64\n",
      " 29  feat_30   10460 non-null  float64\n",
      " 30  feat_31   10460 non-null  float64\n",
      " 31  feat_32   10402 non-null  float64\n",
      " 32  feat_33   10485 non-null  float64\n",
      " 33  feat_34   10489 non-null  float64\n",
      " 34  feat_35   10503 non-null  float64\n",
      " 35  feat_36   10503 non-null  float64\n",
      " 36  feat_37   5767 non-null   float64\n",
      " 37  feat_38   10503 non-null  float64\n",
      " 38  feat_39   10460 non-null  float64\n",
      " 39  feat_40   10485 non-null  float64\n",
      " 40  feat_41   10301 non-null  float64\n",
      " 41  feat_42   10460 non-null  float64\n",
      " 42  feat_43   10460 non-null  float64\n",
      " 43  feat_44   10460 non-null  float64\n",
      " 44  feat_45   9912 non-null   float64\n",
      " 45  feat_46   10485 non-null  float64\n",
      " 46  feat_47   10417 non-null  float64\n",
      " 47  feat_48   10503 non-null  float64\n",
      " 48  feat_49   10460 non-null  float64\n",
      " 49  feat_50   10489 non-null  float64\n",
      " 50  feat_51   10503 non-null  float64\n",
      " 51  feat_52   10417 non-null  float64\n",
      " 52  feat_53   10275 non-null  float64\n",
      " 53  feat_54   10275 non-null  float64\n",
      " 54  feat_55   10503 non-null  float64\n",
      " 55  feat_56   10460 non-null  float64\n",
      " 56  feat_57   10503 non-null  float64\n",
      " 57  feat_58   10474 non-null  float64\n",
      " 58  feat_59   10503 non-null  float64\n",
      " 59  feat_60   9911 non-null   float64\n",
      " 60  feat_61   10486 non-null  float64\n",
      " 61  feat_62   10460 non-null  float64\n",
      " 62  feat_63   10485 non-null  float64\n",
      " 63  feat_64   10275 non-null  float64\n",
      " 64  bankrupt  10503 non-null  int64  \n",
      "dtypes: float64(64), int64(1)\n",
      "memory usage: 5.2 MB\n"
     ]
    }
   ],
   "source": [
    "bankrupt_df.info()"
   ]
  },
  {
   "cell_type": "code",
   "execution_count": 6,
   "id": "a4d32e63-d8ac-43a0-90db-64bde4797339",
   "metadata": {},
   "outputs": [
    {
     "data": {
      "text/plain": [
       "feat_37   0.451\n",
       "feat_21   0.077\n",
       "feat_27   0.068\n",
       "feat_60   0.056\n",
       "feat_45   0.056\n",
       "feat_28   0.022\n",
       "feat_53   0.022\n",
       "feat_54   0.022\n",
       "feat_64   0.022\n",
       "feat_24   0.022\n",
       "dtype: float64"
      ]
     },
     "execution_count": 6,
     "metadata": {},
     "output_type": "execute_result"
    }
   ],
   "source": [
    "(bankrupt_df.isna().sum()/bankrupt_df.shape[0]).sort_values(ascending=False).head(10)"
   ]
  },
  {
   "cell_type": "code",
   "execution_count": 7,
   "id": "5bca6901-566a-4bac-8466-bcb854e99a5d",
   "metadata": {},
   "outputs": [],
   "source": [
    "# drop the feat 37 because the missing propotion is more than 40%\n",
    "bankrupt_df.drop(columns='feat_37',inplace=True)"
   ]
  },
  {
   "cell_type": "markdown",
   "id": "564827d1-e86c-4b23-b87b-1674745d6f0d",
   "metadata": {},
   "source": [
    "# Preprocess"
   ]
  },
  {
   "cell_type": "markdown",
   "id": "47d4a424-35fe-4d9b-8e27-4e3881c04fbc",
   "metadata": {},
   "source": [
    "## Split data "
   ]
  },
  {
   "cell_type": "code",
   "execution_count": 8,
   "id": "813046d5-8071-40db-8c04-18d24cd6698a",
   "metadata": {},
   "outputs": [
    {
     "name": "stdout",
     "output_type": "stream",
     "text": [
      "X shape: (10503, 63)\n",
      "y shape: (10503,)\n"
     ]
    }
   ],
   "source": [
    "target = \"bankrupt\"\n",
    "X = bankrupt_df.drop(columns=target)\n",
    "y = bankrupt_df[target]\n",
    "\n",
    "print(\"X shape:\", X.shape)\n",
    "print(\"y shape:\", y.shape)"
   ]
  },
  {
   "cell_type": "markdown",
   "id": "e8d76408-6637-4fb1-9ab2-cf956692fd48",
   "metadata": {},
   "source": [
    "In order to make sure that our model can generalize, we need to put aside a test set that we'll use to evaluate our model once it's trained. "
   ]
  },
  {
   "cell_type": "code",
   "execution_count": 9,
   "id": "482d8253-a00f-40f8-a0f2-9ea1e408f22a",
   "metadata": {},
   "outputs": [
    {
     "name": "stdout",
     "output_type": "stream",
     "text": [
      "X_train shape: (8402, 63)\n",
      "y_train shape: (8402,)\n",
      "X_test shape: (2101, 63)\n",
      "y_test shape: (2101,)\n"
     ]
    }
   ],
   "source": [
    "X_train, X_test, y_train, y_test = train_test_split(X,y,test_size=0.2,random_state=42)\n",
    "\n",
    "print(\"X_train shape:\", X_train.shape)\n",
    "print(\"y_train shape:\", y_train.shape)\n",
    "print(\"X_test shape:\", X_test.shape)\n",
    "print(\"y_test shape:\", y_test.shape)"
   ]
  },
  {
   "cell_type": "markdown",
   "id": "057939df-2a48-478a-8261-c1504ce8f9fd",
   "metadata": {},
   "source": [
    "## Resample "
   ]
  },
  {
   "cell_type": "code",
   "execution_count": 10,
   "id": "5ddf1c2e-0290-4bc9-bd97-a230bcbb0d20",
   "metadata": {},
   "outputs": [
    {
     "name": "stdout",
     "output_type": "stream",
     "text": [
      "X_train_over shape: (16028, 63)\n"
     ]
    },
    {
     "data": {
      "text/html": [
       "<div>\n",
       "<style scoped>\n",
       "    .dataframe tbody tr th:only-of-type {\n",
       "        vertical-align: middle;\n",
       "    }\n",
       "\n",
       "    .dataframe tbody tr th {\n",
       "        vertical-align: top;\n",
       "    }\n",
       "\n",
       "    .dataframe thead th {\n",
       "        text-align: right;\n",
       "    }\n",
       "</style>\n",
       "<table border=\"1\" class=\"dataframe\">\n",
       "  <thead>\n",
       "    <tr style=\"text-align: right;\">\n",
       "      <th></th>\n",
       "      <th>feat_1</th>\n",
       "      <th>feat_2</th>\n",
       "      <th>feat_3</th>\n",
       "      <th>feat_4</th>\n",
       "      <th>feat_5</th>\n",
       "      <th>feat_6</th>\n",
       "      <th>feat_7</th>\n",
       "      <th>feat_8</th>\n",
       "      <th>feat_9</th>\n",
       "      <th>feat_10</th>\n",
       "      <th>...</th>\n",
       "      <th>feat_55</th>\n",
       "      <th>feat_56</th>\n",
       "      <th>feat_57</th>\n",
       "      <th>feat_58</th>\n",
       "      <th>feat_59</th>\n",
       "      <th>feat_60</th>\n",
       "      <th>feat_61</th>\n",
       "      <th>feat_62</th>\n",
       "      <th>feat_63</th>\n",
       "      <th>feat_64</th>\n",
       "    </tr>\n",
       "  </thead>\n",
       "  <tbody>\n",
       "    <tr>\n",
       "      <th>0</th>\n",
       "      <td>0.014</td>\n",
       "      <td>0.484</td>\n",
       "      <td>0.336</td>\n",
       "      <td>3.284</td>\n",
       "      <td>28.116</td>\n",
       "      <td>0.000</td>\n",
       "      <td>0.017</td>\n",
       "      <td>1.065</td>\n",
       "      <td>1.363</td>\n",
       "      <td>0.516</td>\n",
       "      <td>...</td>\n",
       "      <td>5550.800</td>\n",
       "      <td>0.015</td>\n",
       "      <td>0.027</td>\n",
       "      <td>0.987</td>\n",
       "      <td>0.000</td>\n",
       "      <td>5.881</td>\n",
       "      <td>5.766</td>\n",
       "      <td>39.379</td>\n",
       "      <td>9.269</td>\n",
       "      <td>2.635</td>\n",
       "    </tr>\n",
       "    <tr>\n",
       "      <th>1</th>\n",
       "      <td>0.056</td>\n",
       "      <td>0.287</td>\n",
       "      <td>0.340</td>\n",
       "      <td>2.212</td>\n",
       "      <td>41.783</td>\n",
       "      <td>0.152</td>\n",
       "      <td>0.066</td>\n",
       "      <td>2.179</td>\n",
       "      <td>0.930</td>\n",
       "      <td>0.626</td>\n",
       "      <td>...</td>\n",
       "      <td>5034.800</td>\n",
       "      <td>-0.076</td>\n",
       "      <td>0.089</td>\n",
       "      <td>1.076</td>\n",
       "      <td>0.011</td>\n",
       "      <td>11.784</td>\n",
       "      <td>5.463</td>\n",
       "      <td>62.549</td>\n",
       "      <td>5.835</td>\n",
       "      <td>4.328</td>\n",
       "    </tr>\n",
       "    <tr>\n",
       "      <th>2</th>\n",
       "      <td>0.125</td>\n",
       "      <td>0.212</td>\n",
       "      <td>-0.044</td>\n",
       "      <td>0.767</td>\n",
       "      <td>-26.932</td>\n",
       "      <td>0.427</td>\n",
       "      <td>0.155</td>\n",
       "      <td>3.714</td>\n",
       "      <td>1.176</td>\n",
       "      <td>0.788</td>\n",
       "      <td>...</td>\n",
       "      <td>-5127.200</td>\n",
       "      <td>0.150</td>\n",
       "      <td>0.159</td>\n",
       "      <td>0.850</td>\n",
       "      <td>0.032</td>\n",
       "      <td>68.975</td>\n",
       "      <td>10.712</td>\n",
       "      <td>63.477</td>\n",
       "      <td>5.750</td>\n",
       "      <td>1.255</td>\n",
       "    </tr>\n",
       "    <tr>\n",
       "      <th>3</th>\n",
       "      <td>0.271</td>\n",
       "      <td>0.348</td>\n",
       "      <td>0.419</td>\n",
       "      <td>2.243</td>\n",
       "      <td>300.000</td>\n",
       "      <td>0.129</td>\n",
       "      <td>0.303</td>\n",
       "      <td>1.877</td>\n",
       "      <td>8.682</td>\n",
       "      <td>0.652</td>\n",
       "      <td>...</td>\n",
       "      <td>1322.000</td>\n",
       "      <td>0.039</td>\n",
       "      <td>0.416</td>\n",
       "      <td>0.981</td>\n",
       "      <td>0.000</td>\n",
       "      <td>147.960</td>\n",
       "      <td>149.580</td>\n",
       "      <td>14.188</td>\n",
       "      <td>25.727</td>\n",
       "      <td>35.688</td>\n",
       "    </tr>\n",
       "    <tr>\n",
       "      <th>4</th>\n",
       "      <td>0.485</td>\n",
       "      <td>0.381</td>\n",
       "      <td>0.619</td>\n",
       "      <td>2.622</td>\n",
       "      <td>372.120</td>\n",
       "      <td>0.000</td>\n",
       "      <td>0.596</td>\n",
       "      <td>1.622</td>\n",
       "      <td>2.967</td>\n",
       "      <td>0.619</td>\n",
       "      <td>...</td>\n",
       "      <td>490.720</td>\n",
       "      <td>0.201</td>\n",
       "      <td>0.785</td>\n",
       "      <td>0.816</td>\n",
       "      <td>0.000</td>\n",
       "      <td>NaN</td>\n",
       "      <td>4.288</td>\n",
       "      <td>46.919</td>\n",
       "      <td>7.779</td>\n",
       "      <td>NaN</td>\n",
       "    </tr>\n",
       "  </tbody>\n",
       "</table>\n",
       "<p>5 rows × 63 columns</p>\n",
       "</div>"
      ],
      "text/plain": [
       "   feat_1  feat_2  feat_3  feat_4  feat_5  feat_6  feat_7  feat_8  feat_9  \\\n",
       "0   0.014   0.484   0.336   3.284  28.116   0.000   0.017   1.065   1.363   \n",
       "1   0.056   0.287   0.340   2.212  41.783   0.152   0.066   2.179   0.930   \n",
       "2   0.125   0.212  -0.044   0.767 -26.932   0.427   0.155   3.714   1.176   \n",
       "3   0.271   0.348   0.419   2.243 300.000   0.129   0.303   1.877   8.682   \n",
       "4   0.485   0.381   0.619   2.622 372.120   0.000   0.596   1.622   2.967   \n",
       "\n",
       "   feat_10  ...   feat_55  feat_56  feat_57  feat_58  feat_59  feat_60  \\\n",
       "0    0.516  ...  5550.800    0.015    0.027    0.987    0.000    5.881   \n",
       "1    0.626  ...  5034.800   -0.076    0.089    1.076    0.011   11.784   \n",
       "2    0.788  ... -5127.200    0.150    0.159    0.850    0.032   68.975   \n",
       "3    0.652  ...  1322.000    0.039    0.416    0.981    0.000  147.960   \n",
       "4    0.619  ...   490.720    0.201    0.785    0.816    0.000      NaN   \n",
       "\n",
       "   feat_61  feat_62  feat_63  feat_64  \n",
       "0    5.766   39.379    9.269    2.635  \n",
       "1    5.463   62.549    5.835    4.328  \n",
       "2   10.712   63.477    5.750    1.255  \n",
       "3  149.580   14.188   25.727   35.688  \n",
       "4    4.288   46.919    7.779      NaN  \n",
       "\n",
       "[5 rows x 63 columns]"
      ]
     },
     "execution_count": 10,
     "metadata": {},
     "output_type": "execute_result"
    }
   ],
   "source": [
    "over_sampler = RandomOverSampler(random_state=42)\n",
    "X_train_over, y_train_over = over_sampler.fit_resample(X_train,y_train)\n",
    "print(\"X_train_over shape:\", X_train_over.shape)\n",
    "X_train_over.head()"
   ]
  },
  {
   "cell_type": "markdown",
   "id": "33f87cc8-f4b6-4f52-b219-085bf381442a",
   "metadata": {},
   "source": [
    "# Build model "
   ]
  },
  {
   "cell_type": "markdown",
   "id": "b8d81ca3-4918-4d95-8469-cefa235bd0dc",
   "metadata": {},
   "source": [
    "## Baseline "
   ]
  },
  {
   "cell_type": "code",
   "execution_count": 11,
   "id": "b1d82829-4d59-4342-8314-6087c6e84ea5",
   "metadata": {},
   "outputs": [
    {
     "name": "stdout",
     "output_type": "stream",
     "text": [
      "Baseline Accuracy: 0.9529\n"
     ]
    }
   ],
   "source": [
    "acc_baseline = df['bankrupt'].value_counts(normalize=True).max()\n",
    "print(\"Baseline Accuracy:\", round(acc_baseline, 4))"
   ]
  },
  {
   "cell_type": "markdown",
   "id": "d8bc3fa7-b5ff-4523-8162-ff950cfcc469",
   "metadata": {},
   "source": [
    "Create the baseline to compare with the accuracy score"
   ]
  },
  {
   "cell_type": "markdown",
   "id": "a57e2b79-27b6-4e4f-a9e0-245562d50e2e",
   "metadata": {},
   "source": [
    "## Iterate "
   ]
  },
  {
   "cell_type": "markdown",
   "id": "51cf724a-1373-4a49-a843-072e6065a323",
   "metadata": {},
   "source": [
    "### Create Pipeline: RandomForest vs Gradient Booster"
   ]
  },
  {
   "cell_type": "code",
   "execution_count": 12,
   "id": "5cfa6dd2-ec23-4c4b-98f2-4a347485e260",
   "metadata": {},
   "outputs": [],
   "source": [
    "sampling=RandomOverSampler(random_state=42)"
   ]
  },
  {
   "cell_type": "code",
   "execution_count": 13,
   "id": "a08779db-40c8-4c5e-b6e1-a2fe375ed575",
   "metadata": {},
   "outputs": [
    {
     "data": {
      "text/plain": [
       "Pipeline(steps=[('simpleimputer', SimpleImputer()),\n",
       "                ('randomoversampler', RandomOverSampler(random_state=42)),\n",
       "                ('randomforestclassifier',\n",
       "                 RandomForestClassifier(random_state=42))])"
      ]
     },
     "execution_count": 13,
     "metadata": {},
     "output_type": "execute_result"
    }
   ],
   "source": [
    "# Create 2 pipeline: random forest and gradient booster\n",
    "# random forest\n",
    "clf_rf = make_pipeline(\n",
    "    SimpleImputer(),\n",
    "    RandomOverSampler(random_state=42),\n",
    "    RandomForestClassifier(random_state=42)\n",
    ")\n",
    "clf_rf"
   ]
  },
  {
   "cell_type": "code",
   "execution_count": 14,
   "id": "48a3049d-ec2f-4bc5-8bd4-405cc19c5a81",
   "metadata": {},
   "outputs": [
    {
     "data": {
      "text/plain": [
       "Pipeline(steps=[('simpleimputer', SimpleImputer()),\n",
       "                ('randomoversampler', RandomOverSampler(random_state=42)),\n",
       "                ('gradientboostingclassifier',\n",
       "                 GradientBoostingClassifier(random_state=42))])"
      ]
     },
     "execution_count": 14,
     "metadata": {},
     "output_type": "execute_result"
    }
   ],
   "source": [
    "# Gradient booster\n",
    "clf_gb = make_pipeline(\n",
    "    SimpleImputer(),\n",
    "    RandomOverSampler(random_state=42),\n",
    "    GradientBoostingClassifier(random_state=42)\n",
    ")\n",
    "clf_gb"
   ]
  },
  {
   "cell_type": "markdown",
   "id": "421cb537-07dc-4b14-96b6-3657a6adc384",
   "metadata": {},
   "source": [
    "In order to get the best performance from our model, we will implement to create params anf tune its hyperparameter."
   ]
  },
  {
   "cell_type": "markdown",
   "id": "09d87407-5b2e-40cd-ae22-58d7187aeb02",
   "metadata": {},
   "source": [
    "### Create the params"
   ]
  },
  {
   "cell_type": "code",
   "execution_count": 15,
   "id": "a76b5e48-8935-47d1-9aec-1f57fc4479b2",
   "metadata": {},
   "outputs": [
    {
     "data": {
      "text/plain": [
       "{'simpleimputer__strategy': ['mean', 'median'],\n",
       " 'randomforestclassifier__n_estimators': range(25, 100, 25),\n",
       " 'randomforestclassifier__max_depth': range(10, 50, 10)}"
      ]
     },
     "execution_count": 15,
     "metadata": {},
     "output_type": "execute_result"
    }
   ],
   "source": [
    "# Random Forest Params\n",
    "params_rf = {\n",
    "    'simpleimputer__strategy': ['mean','median'],\n",
    "    'randomforestclassifier__n_estimators': range(25,100,25),\n",
    "    'randomforestclassifier__max_depth': range(10,50,10)\n",
    "}\n",
    "params_rf"
   ]
  },
  {
   "cell_type": "code",
   "execution_count": 16,
   "id": "84443279-dc85-4276-8232-f6ec61aad066",
   "metadata": {},
   "outputs": [
    {
     "data": {
      "text/plain": [
       "{'simpleimputer__strategy': ['mean', 'median'],\n",
       " 'gradientboostingclassifier__n_estimators': range(20, 31, 5),\n",
       " 'gradientboostingclassifier__max_depth': range(2, 5)}"
      ]
     },
     "execution_count": 16,
     "metadata": {},
     "output_type": "execute_result"
    }
   ],
   "source": [
    "# Gradient Booster Params\n",
    "params_gb = {\n",
    "    'simpleimputer__strategy': ['mean','median'],\n",
    "    'gradientboostingclassifier__n_estimators': range(20,31,5),\n",
    "    'gradientboostingclassifier__max_depth': range(2,5)\n",
    "}\n",
    "params_gb"
   ]
  },
  {
   "cell_type": "markdown",
   "id": "a6d600bf-332f-4bc2-83b8-d520e0a851af",
   "metadata": {},
   "source": [
    "### Use Cross validation to find the best model"
   ]
  },
  {
   "cell_type": "code",
   "execution_count": 17,
   "id": "0f03aba8-c56d-4bef-a178-d16e0a7ffb05",
   "metadata": {},
   "outputs": [
    {
     "data": {
      "text/plain": [
       "GridSearchCV(cv=5,\n",
       "             estimator=Pipeline(steps=[('simpleimputer', SimpleImputer()),\n",
       "                                       ('randomoversampler',\n",
       "                                        RandomOverSampler(random_state=42)),\n",
       "                                       ('randomforestclassifier',\n",
       "                                        RandomForestClassifier(random_state=42))]),\n",
       "             n_jobs=-1,\n",
       "             param_grid={'randomforestclassifier__max_depth': range(10, 50, 10),\n",
       "                         'randomforestclassifier__n_estimators': range(25, 100, 25),\n",
       "                         'simpleimputer__strategy': ['mean', 'median']},\n",
       "             verbose=1)"
      ]
     },
     "execution_count": 17,
     "metadata": {},
     "output_type": "execute_result"
    }
   ],
   "source": [
    "model_rf = GridSearchCV(estimator=clf_rf,param_grid=params_rf,cv=5,n_jobs=-1,verbose=1)\n",
    "model_rf"
   ]
  },
  {
   "cell_type": "code",
   "execution_count": 18,
   "id": "4f18b4df-dbad-43ff-bed9-9f071499ba6a",
   "metadata": {},
   "outputs": [
    {
     "data": {
      "text/plain": [
       "GridSearchCV(cv=5,\n",
       "             estimator=Pipeline(steps=[('simpleimputer', SimpleImputer()),\n",
       "                                       ('randomoversampler',\n",
       "                                        RandomOverSampler(random_state=42)),\n",
       "                                       ('gradientboostingclassifier',\n",
       "                                        GradientBoostingClassifier(random_state=42))]),\n",
       "             n_jobs=-1,\n",
       "             param_grid={'gradientboostingclassifier__max_depth': range(2, 5),\n",
       "                         'gradientboostingclassifier__n_estimators': range(20, 31, 5),\n",
       "                         'simpleimputer__strategy': ['mean', 'median']},\n",
       "             verbose=1)"
      ]
     },
     "execution_count": 18,
     "metadata": {},
     "output_type": "execute_result"
    }
   ],
   "source": [
    "model_gb = GridSearchCV(estimator=clf_gb,param_grid=params_gb,cv=5,n_jobs=-1,verbose=1)\n",
    "model_gb"
   ]
  },
  {
   "cell_type": "markdown",
   "id": "fe86b161-2bd3-439f-b4bc-7520893ca158",
   "metadata": {},
   "source": [
    "### Train model "
   ]
  },
  {
   "cell_type": "code",
   "execution_count": 19,
   "id": "c10dea9e-2276-47ba-8350-c49da35f31af",
   "metadata": {},
   "outputs": [
    {
     "name": "stdout",
     "output_type": "stream",
     "text": [
      "Fitting 5 folds for each of 24 candidates, totalling 120 fits\n",
      "GridSearchCV(cv=5,\n",
      "             estimator=Pipeline(steps=[('simpleimputer', SimpleImputer()),\n",
      "                                       ('randomoversampler',\n",
      "                                        RandomOverSampler(random_state=42)),\n",
      "                                       ('randomforestclassifier',\n",
      "                                        RandomForestClassifier(random_state=42))]),\n",
      "             n_jobs=-1,\n",
      "             param_grid={'randomforestclassifier__max_depth': range(10, 50, 10),\n",
      "                         'randomforestclassifier__n_estimators': range(25, 100, 25),\n",
      "                         'simpleimputer__strategy': ['mean', 'median']},\n",
      "             verbose=1)\n",
      "Total diff time: 126.13560771942139 second\n"
     ]
    }
   ],
   "source": [
    "# Train model\n",
    "start = time.time()\n",
    "print(model_rf.fit(X_train,y_train))\n",
    "diff = time.time() - start\n",
    "print(f'Total diff time: {diff} second')"
   ]
  },
  {
   "cell_type": "code",
   "execution_count": 20,
   "id": "778370aa-f4fc-414e-850f-aeb01a2ef24b",
   "metadata": {},
   "outputs": [
    {
     "name": "stdout",
     "output_type": "stream",
     "text": [
      "Fitting 5 folds for each of 18 candidates, totalling 90 fits\n",
      "GridSearchCV(cv=5,\n",
      "             estimator=Pipeline(steps=[('simpleimputer', SimpleImputer()),\n",
      "                                       ('randomoversampler',\n",
      "                                        RandomOverSampler(random_state=42)),\n",
      "                                       ('gradientboostingclassifier',\n",
      "                                        GradientBoostingClassifier(random_state=42))]),\n",
      "             n_jobs=-1,\n",
      "             param_grid={'gradientboostingclassifier__max_depth': range(2, 5),\n",
      "                         'gradientboostingclassifier__n_estimators': range(20, 31, 5),\n",
      "                         'simpleimputer__strategy': ['mean', 'median']},\n",
      "             verbose=1)\n",
      "Total time: 222.08275508880615 sec\n"
     ]
    }
   ],
   "source": [
    "# Fit model to over-sampled training data\n",
    "start_time = time.time()\n",
    "print(model_gb.fit(X_train,y_train))\n",
    "diff = time.time() - start_time\n",
    "print(f\"Total time: {diff} sec\")"
   ]
  },
  {
   "cell_type": "markdown",
   "id": "d39ba5b2-22e9-48d3-9081-2cd3478ab8d2",
   "metadata": {},
   "source": [
    "### CV results Assessment"
   ]
  },
  {
   "cell_type": "markdown",
   "id": "15ec7909-86fb-41df-b446-04fc33b29bfd",
   "metadata": {},
   "source": [
    "- Random Forest"
   ]
  },
  {
   "cell_type": "code",
   "execution_count": 21,
   "id": "b8aba88e-45b1-4b1b-8250-935101f4f1fe",
   "metadata": {},
   "outputs": [
    {
     "data": {
      "text/html": [
       "<div>\n",
       "<style scoped>\n",
       "    .dataframe tbody tr th:only-of-type {\n",
       "        vertical-align: middle;\n",
       "    }\n",
       "\n",
       "    .dataframe tbody tr th {\n",
       "        vertical-align: top;\n",
       "    }\n",
       "\n",
       "    .dataframe thead th {\n",
       "        text-align: right;\n",
       "    }\n",
       "</style>\n",
       "<table border=\"1\" class=\"dataframe\">\n",
       "  <thead>\n",
       "    <tr style=\"text-align: right;\">\n",
       "      <th></th>\n",
       "      <th>rank_test_score</th>\n",
       "      <th>std_test_score</th>\n",
       "      <th>mean_test_score</th>\n",
       "      <th>split4_test_score</th>\n",
       "      <th>split3_test_score</th>\n",
       "      <th>split2_test_score</th>\n",
       "      <th>split1_test_score</th>\n",
       "      <th>split0_test_score</th>\n",
       "      <th>params</th>\n",
       "      <th>param_simpleimputer__strategy</th>\n",
       "      <th>param_randomforestclassifier__n_estimators</th>\n",
       "      <th>param_randomforestclassifier__max_depth</th>\n",
       "      <th>std_score_time</th>\n",
       "      <th>mean_score_time</th>\n",
       "      <th>std_fit_time</th>\n",
       "      <th>mean_fit_time</th>\n",
       "    </tr>\n",
       "  </thead>\n",
       "  <tbody>\n",
       "    <tr>\n",
       "      <th>16</th>\n",
       "      <td>1</td>\n",
       "      <td>0.001</td>\n",
       "      <td>0.960</td>\n",
       "      <td>0.962</td>\n",
       "      <td>0.958</td>\n",
       "      <td>0.958</td>\n",
       "      <td>0.960</td>\n",
       "      <td>0.960</td>\n",
       "      <td>{'randomforestclassifier__max_depth': 30, 'ran...</td>\n",
       "      <td>mean</td>\n",
       "      <td>75</td>\n",
       "      <td>30</td>\n",
       "      <td>0.015</td>\n",
       "      <td>0.108</td>\n",
       "      <td>0.141</td>\n",
       "      <td>11.691</td>\n",
       "    </tr>\n",
       "    <tr>\n",
       "      <th>22</th>\n",
       "      <td>2</td>\n",
       "      <td>0.001</td>\n",
       "      <td>0.959</td>\n",
       "      <td>0.960</td>\n",
       "      <td>0.958</td>\n",
       "      <td>0.958</td>\n",
       "      <td>0.960</td>\n",
       "      <td>0.958</td>\n",
       "      <td>{'randomforestclassifier__max_depth': 40, 'ran...</td>\n",
       "      <td>mean</td>\n",
       "      <td>75</td>\n",
       "      <td>40</td>\n",
       "      <td>0.018</td>\n",
       "      <td>0.098</td>\n",
       "      <td>0.641</td>\n",
       "      <td>11.109</td>\n",
       "    </tr>\n",
       "    <tr>\n",
       "      <th>12</th>\n",
       "      <td>3</td>\n",
       "      <td>0.001</td>\n",
       "      <td>0.959</td>\n",
       "      <td>0.960</td>\n",
       "      <td>0.957</td>\n",
       "      <td>0.958</td>\n",
       "      <td>0.961</td>\n",
       "      <td>0.957</td>\n",
       "      <td>{'randomforestclassifier__max_depth': 30, 'ran...</td>\n",
       "      <td>mean</td>\n",
       "      <td>25</td>\n",
       "      <td>30</td>\n",
       "      <td>0.004</td>\n",
       "      <td>0.043</td>\n",
       "      <td>0.134</td>\n",
       "      <td>4.109</td>\n",
       "    </tr>\n",
       "    <tr>\n",
       "      <th>14</th>\n",
       "      <td>4</td>\n",
       "      <td>0.001</td>\n",
       "      <td>0.958</td>\n",
       "      <td>0.960</td>\n",
       "      <td>0.957</td>\n",
       "      <td>0.957</td>\n",
       "      <td>0.960</td>\n",
       "      <td>0.957</td>\n",
       "      <td>{'randomforestclassifier__max_depth': 30, 'ran...</td>\n",
       "      <td>mean</td>\n",
       "      <td>50</td>\n",
       "      <td>30</td>\n",
       "      <td>0.014</td>\n",
       "      <td>0.067</td>\n",
       "      <td>0.083</td>\n",
       "      <td>7.847</td>\n",
       "    </tr>\n",
       "    <tr>\n",
       "      <th>18</th>\n",
       "      <td>5</td>\n",
       "      <td>0.001</td>\n",
       "      <td>0.958</td>\n",
       "      <td>0.958</td>\n",
       "      <td>0.957</td>\n",
       "      <td>0.958</td>\n",
       "      <td>0.960</td>\n",
       "      <td>0.957</td>\n",
       "      <td>{'randomforestclassifier__max_depth': 40, 'ran...</td>\n",
       "      <td>mean</td>\n",
       "      <td>25</td>\n",
       "      <td>40</td>\n",
       "      <td>0.009</td>\n",
       "      <td>0.033</td>\n",
       "      <td>0.175</td>\n",
       "      <td>3.621</td>\n",
       "    </tr>\n",
       "  </tbody>\n",
       "</table>\n",
       "</div>"
      ],
      "text/plain": [
       "    rank_test_score  std_test_score  mean_test_score  split4_test_score  \\\n",
       "16                1           0.001            0.960              0.962   \n",
       "22                2           0.001            0.959              0.960   \n",
       "12                3           0.001            0.959              0.960   \n",
       "14                4           0.001            0.958              0.960   \n",
       "18                5           0.001            0.958              0.958   \n",
       "\n",
       "    split3_test_score  split2_test_score  split1_test_score  \\\n",
       "16              0.958              0.958              0.960   \n",
       "22              0.958              0.958              0.960   \n",
       "12              0.957              0.958              0.961   \n",
       "14              0.957              0.957              0.960   \n",
       "18              0.957              0.958              0.960   \n",
       "\n",
       "    split0_test_score                                             params  \\\n",
       "16              0.960  {'randomforestclassifier__max_depth': 30, 'ran...   \n",
       "22              0.958  {'randomforestclassifier__max_depth': 40, 'ran...   \n",
       "12              0.957  {'randomforestclassifier__max_depth': 30, 'ran...   \n",
       "14              0.957  {'randomforestclassifier__max_depth': 30, 'ran...   \n",
       "18              0.957  {'randomforestclassifier__max_depth': 40, 'ran...   \n",
       "\n",
       "   param_simpleimputer__strategy param_randomforestclassifier__n_estimators  \\\n",
       "16                          mean                                         75   \n",
       "22                          mean                                         75   \n",
       "12                          mean                                         25   \n",
       "14                          mean                                         50   \n",
       "18                          mean                                         25   \n",
       "\n",
       "   param_randomforestclassifier__max_depth  std_score_time  mean_score_time  \\\n",
       "16                                      30           0.015            0.108   \n",
       "22                                      40           0.018            0.098   \n",
       "12                                      30           0.004            0.043   \n",
       "14                                      30           0.014            0.067   \n",
       "18                                      40           0.009            0.033   \n",
       "\n",
       "    std_fit_time  mean_fit_time  \n",
       "16         0.141         11.691  \n",
       "22         0.641         11.109  \n",
       "12         0.134          4.109  \n",
       "14         0.083          7.847  \n",
       "18         0.175          3.621  "
      ]
     },
     "execution_count": 21,
     "metadata": {},
     "output_type": "execute_result"
    }
   ],
   "source": [
    "results_rf = pd.DataFrame(model_rf.cv_results_)\n",
    "results_rf.iloc[:,::-1].sort_values(\"rank_test_score\").head(5)"
   ]
  },
  {
   "cell_type": "code",
   "execution_count": 22,
   "id": "b41d791f-9252-4d50-9754-983053c0362c",
   "metadata": {},
   "outputs": [
    {
     "name": "stdout",
     "output_type": "stream",
     "text": [
      "Random Forest result:\n",
      "The best param: {'randomforestclassifier__max_depth': 30, 'randomforestclassifier__n_estimators': 75, 'simpleimputer__strategy': 'mean'}\n",
      "The best score: 0.9604950023798191\n",
      "\n"
     ]
    }
   ],
   "source": [
    "print(f\"\"\"Random Forest result:\n",
    "The best param: {model_rf.best_params_}\n",
    "The best score: {model_rf.score(X_test,y_test)}\n",
    "\"\"\")"
   ]
  },
  {
   "cell_type": "markdown",
   "id": "2425cd5e-c9a3-42ca-980f-924ca1c3dc21",
   "metadata": {},
   "source": [
    "- Gradient Booster"
   ]
  },
  {
   "cell_type": "code",
   "execution_count": 23,
   "id": "ecd93258-7939-4d70-8c6b-e6a452c90d10",
   "metadata": {},
   "outputs": [
    {
     "data": {
      "text/html": [
       "<div>\n",
       "<style scoped>\n",
       "    .dataframe tbody tr th:only-of-type {\n",
       "        vertical-align: middle;\n",
       "    }\n",
       "\n",
       "    .dataframe tbody tr th {\n",
       "        vertical-align: top;\n",
       "    }\n",
       "\n",
       "    .dataframe thead th {\n",
       "        text-align: right;\n",
       "    }\n",
       "</style>\n",
       "<table border=\"1\" class=\"dataframe\">\n",
       "  <thead>\n",
       "    <tr style=\"text-align: right;\">\n",
       "      <th></th>\n",
       "      <th>rank_test_score</th>\n",
       "      <th>std_test_score</th>\n",
       "      <th>mean_test_score</th>\n",
       "      <th>split4_test_score</th>\n",
       "      <th>split3_test_score</th>\n",
       "      <th>split2_test_score</th>\n",
       "      <th>split1_test_score</th>\n",
       "      <th>split0_test_score</th>\n",
       "      <th>params</th>\n",
       "      <th>param_simpleimputer__strategy</th>\n",
       "      <th>param_gradientboostingclassifier__n_estimators</th>\n",
       "      <th>param_gradientboostingclassifier__max_depth</th>\n",
       "      <th>std_score_time</th>\n",
       "      <th>mean_score_time</th>\n",
       "      <th>std_fit_time</th>\n",
       "      <th>mean_fit_time</th>\n",
       "    </tr>\n",
       "  </thead>\n",
       "  <tbody>\n",
       "    <tr>\n",
       "      <th>16</th>\n",
       "      <td>1</td>\n",
       "      <td>0.005</td>\n",
       "      <td>0.891</td>\n",
       "      <td>0.883</td>\n",
       "      <td>0.895</td>\n",
       "      <td>0.887</td>\n",
       "      <td>0.891</td>\n",
       "      <td>0.898</td>\n",
       "      <td>{'gradientboostingclassifier__max_depth': 4, '...</td>\n",
       "      <td>mean</td>\n",
       "      <td>30</td>\n",
       "      <td>4</td>\n",
       "      <td>0.003</td>\n",
       "      <td>0.015</td>\n",
       "      <td>0.472</td>\n",
       "      <td>26.119</td>\n",
       "    </tr>\n",
       "    <tr>\n",
       "      <th>14</th>\n",
       "      <td>2</td>\n",
       "      <td>0.005</td>\n",
       "      <td>0.879</td>\n",
       "      <td>0.872</td>\n",
       "      <td>0.886</td>\n",
       "      <td>0.874</td>\n",
       "      <td>0.881</td>\n",
       "      <td>0.882</td>\n",
       "      <td>{'gradientboostingclassifier__max_depth': 4, '...</td>\n",
       "      <td>mean</td>\n",
       "      <td>25</td>\n",
       "      <td>4</td>\n",
       "      <td>0.005</td>\n",
       "      <td>0.016</td>\n",
       "      <td>0.458</td>\n",
       "      <td>21.789</td>\n",
       "    </tr>\n",
       "    <tr>\n",
       "      <th>17</th>\n",
       "      <td>3</td>\n",
       "      <td>0.012</td>\n",
       "      <td>0.873</td>\n",
       "      <td>0.868</td>\n",
       "      <td>0.875</td>\n",
       "      <td>0.854</td>\n",
       "      <td>0.876</td>\n",
       "      <td>0.890</td>\n",
       "      <td>{'gradientboostingclassifier__max_depth': 4, '...</td>\n",
       "      <td>median</td>\n",
       "      <td>30</td>\n",
       "      <td>4</td>\n",
       "      <td>0.003</td>\n",
       "      <td>0.018</td>\n",
       "      <td>2.248</td>\n",
       "      <td>24.397</td>\n",
       "    </tr>\n",
       "    <tr>\n",
       "      <th>12</th>\n",
       "      <td>4</td>\n",
       "      <td>0.003</td>\n",
       "      <td>0.864</td>\n",
       "      <td>0.863</td>\n",
       "      <td>0.869</td>\n",
       "      <td>0.859</td>\n",
       "      <td>0.864</td>\n",
       "      <td>0.863</td>\n",
       "      <td>{'gradientboostingclassifier__max_depth': 4, '...</td>\n",
       "      <td>mean</td>\n",
       "      <td>20</td>\n",
       "      <td>4</td>\n",
       "      <td>0.003</td>\n",
       "      <td>0.015</td>\n",
       "      <td>0.497</td>\n",
       "      <td>17.594</td>\n",
       "    </tr>\n",
       "    <tr>\n",
       "      <th>15</th>\n",
       "      <td>5</td>\n",
       "      <td>0.013</td>\n",
       "      <td>0.858</td>\n",
       "      <td>0.852</td>\n",
       "      <td>0.857</td>\n",
       "      <td>0.839</td>\n",
       "      <td>0.863</td>\n",
       "      <td>0.880</td>\n",
       "      <td>{'gradientboostingclassifier__max_depth': 4, '...</td>\n",
       "      <td>median</td>\n",
       "      <td>25</td>\n",
       "      <td>4</td>\n",
       "      <td>0.003</td>\n",
       "      <td>0.017</td>\n",
       "      <td>0.173</td>\n",
       "      <td>22.224</td>\n",
       "    </tr>\n",
       "  </tbody>\n",
       "</table>\n",
       "</div>"
      ],
      "text/plain": [
       "    rank_test_score  std_test_score  mean_test_score  split4_test_score  \\\n",
       "16                1           0.005            0.891              0.883   \n",
       "14                2           0.005            0.879              0.872   \n",
       "17                3           0.012            0.873              0.868   \n",
       "12                4           0.003            0.864              0.863   \n",
       "15                5           0.013            0.858              0.852   \n",
       "\n",
       "    split3_test_score  split2_test_score  split1_test_score  \\\n",
       "16              0.895              0.887              0.891   \n",
       "14              0.886              0.874              0.881   \n",
       "17              0.875              0.854              0.876   \n",
       "12              0.869              0.859              0.864   \n",
       "15              0.857              0.839              0.863   \n",
       "\n",
       "    split0_test_score                                             params  \\\n",
       "16              0.898  {'gradientboostingclassifier__max_depth': 4, '...   \n",
       "14              0.882  {'gradientboostingclassifier__max_depth': 4, '...   \n",
       "17              0.890  {'gradientboostingclassifier__max_depth': 4, '...   \n",
       "12              0.863  {'gradientboostingclassifier__max_depth': 4, '...   \n",
       "15              0.880  {'gradientboostingclassifier__max_depth': 4, '...   \n",
       "\n",
       "   param_simpleimputer__strategy  \\\n",
       "16                          mean   \n",
       "14                          mean   \n",
       "17                        median   \n",
       "12                          mean   \n",
       "15                        median   \n",
       "\n",
       "   param_gradientboostingclassifier__n_estimators  \\\n",
       "16                                             30   \n",
       "14                                             25   \n",
       "17                                             30   \n",
       "12                                             20   \n",
       "15                                             25   \n",
       "\n",
       "   param_gradientboostingclassifier__max_depth  std_score_time  \\\n",
       "16                                           4           0.003   \n",
       "14                                           4           0.005   \n",
       "17                                           4           0.003   \n",
       "12                                           4           0.003   \n",
       "15                                           4           0.003   \n",
       "\n",
       "    mean_score_time  std_fit_time  mean_fit_time  \n",
       "16            0.015         0.472         26.119  \n",
       "14            0.016         0.458         21.789  \n",
       "17            0.018         2.248         24.397  \n",
       "12            0.015         0.497         17.594  \n",
       "15            0.017         0.173         22.224  "
      ]
     },
     "execution_count": 23,
     "metadata": {},
     "output_type": "execute_result"
    }
   ],
   "source": [
    "results_gb = pd.DataFrame(model_gb.cv_results_)\n",
    "results_gb.iloc[:,::-1].sort_values(\"rank_test_score\").head(5)"
   ]
  },
  {
   "cell_type": "code",
   "execution_count": 24,
   "id": "d3267ecd-d3d4-47a5-9dd6-70ca9347a578",
   "metadata": {},
   "outputs": [
    {
     "name": "stdout",
     "output_type": "stream",
     "text": [
      "Gradient Booster result:\n",
      "The best param: {'gradientboostingclassifier__max_depth': 4, 'gradientboostingclassifier__n_estimators': 30, 'simpleimputer__strategy': 'mean'}\n",
      "The best score: 0.8895763921941933\n",
      "\n"
     ]
    }
   ],
   "source": [
    "print(f\"\"\"Gradient Booster result:\n",
    "The best param: {model_gb.best_params_}\n",
    "The best score: {model_gb.score(X_test,y_test)}\n",
    "\"\"\")"
   ]
  },
  {
   "cell_type": "markdown",
   "id": "1be9e625-43d5-4157-96a4-7f39307a9ab8",
   "metadata": {},
   "source": [
    "As we see, Although Gradient Booster take more time than Random Forest, it is scored less than Random Forest. \n",
    "\n",
    "For this reason, we recommend to use Randomforest for this model."
   ]
  },
  {
   "cell_type": "markdown",
   "id": "8cdac6af-961d-44a5-91bd-63f72d8159b0",
   "metadata": {},
   "source": [
    "Beside that, we should not choose the model with the best score. Instead, we could select the most proper model (running time, the score)"
   ]
  },
  {
   "cell_type": "code",
   "execution_count": 25,
   "id": "e1d982a9-e52f-4bf7-b136-3540c6a7d0eb",
   "metadata": {},
   "outputs": [
    {
     "data": {
      "text/html": [
       "<div>\n",
       "<style scoped>\n",
       "    .dataframe tbody tr th:only-of-type {\n",
       "        vertical-align: middle;\n",
       "    }\n",
       "\n",
       "    .dataframe tbody tr th {\n",
       "        vertical-align: top;\n",
       "    }\n",
       "\n",
       "    .dataframe thead th {\n",
       "        text-align: right;\n",
       "    }\n",
       "</style>\n",
       "<table border=\"1\" class=\"dataframe\">\n",
       "  <thead>\n",
       "    <tr style=\"text-align: right;\">\n",
       "      <th></th>\n",
       "      <th>param_randomforestclassifier__max_depth</th>\n",
       "      <th>param_randomforestclassifier__n_estimators</th>\n",
       "      <th>param_simpleimputer__strategy</th>\n",
       "      <th>mean_test_score</th>\n",
       "      <th>mean_fit_time</th>\n",
       "    </tr>\n",
       "  </thead>\n",
       "  <tbody>\n",
       "    <tr>\n",
       "      <th>0</th>\n",
       "      <td>10</td>\n",
       "      <td>25</td>\n",
       "      <td>mean</td>\n",
       "      <td>0.926</td>\n",
       "      <td>1.114</td>\n",
       "    </tr>\n",
       "    <tr>\n",
       "      <th>1</th>\n",
       "      <td>10</td>\n",
       "      <td>50</td>\n",
       "      <td>mean</td>\n",
       "      <td>0.930</td>\n",
       "      <td>2.274</td>\n",
       "    </tr>\n",
       "    <tr>\n",
       "      <th>2</th>\n",
       "      <td>40</td>\n",
       "      <td>25</td>\n",
       "      <td>mean</td>\n",
       "      <td>0.958</td>\n",
       "      <td>3.621</td>\n",
       "    </tr>\n",
       "    <tr>\n",
       "      <th>3</th>\n",
       "      <td>20</td>\n",
       "      <td>25</td>\n",
       "      <td>mean</td>\n",
       "      <td>0.958</td>\n",
       "      <td>3.708</td>\n",
       "    </tr>\n",
       "    <tr>\n",
       "      <th>4</th>\n",
       "      <td>30</td>\n",
       "      <td>25</td>\n",
       "      <td>mean</td>\n",
       "      <td>0.959</td>\n",
       "      <td>4.109</td>\n",
       "    </tr>\n",
       "    <tr>\n",
       "      <th>5</th>\n",
       "      <td>40</td>\n",
       "      <td>50</td>\n",
       "      <td>mean</td>\n",
       "      <td>0.958</td>\n",
       "      <td>7.307</td>\n",
       "    </tr>\n",
       "    <tr>\n",
       "      <th>6</th>\n",
       "      <td>20</td>\n",
       "      <td>50</td>\n",
       "      <td>mean</td>\n",
       "      <td>0.958</td>\n",
       "      <td>7.847</td>\n",
       "    </tr>\n",
       "    <tr>\n",
       "      <th>7</th>\n",
       "      <td>30</td>\n",
       "      <td>50</td>\n",
       "      <td>mean</td>\n",
       "      <td>0.958</td>\n",
       "      <td>7.847</td>\n",
       "    </tr>\n",
       "    <tr>\n",
       "      <th>8</th>\n",
       "      <td>10</td>\n",
       "      <td>75</td>\n",
       "      <td>mean</td>\n",
       "      <td>0.931</td>\n",
       "      <td>9.750</td>\n",
       "    </tr>\n",
       "    <tr>\n",
       "      <th>9</th>\n",
       "      <td>40</td>\n",
       "      <td>75</td>\n",
       "      <td>mean</td>\n",
       "      <td>0.959</td>\n",
       "      <td>11.109</td>\n",
       "    </tr>\n",
       "    <tr>\n",
       "      <th>10</th>\n",
       "      <td>20</td>\n",
       "      <td>75</td>\n",
       "      <td>mean</td>\n",
       "      <td>0.958</td>\n",
       "      <td>11.487</td>\n",
       "    </tr>\n",
       "    <tr>\n",
       "      <th>11</th>\n",
       "      <td>30</td>\n",
       "      <td>75</td>\n",
       "      <td>mean</td>\n",
       "      <td>0.960</td>\n",
       "      <td>11.691</td>\n",
       "    </tr>\n",
       "  </tbody>\n",
       "</table>\n",
       "</div>"
      ],
      "text/plain": [
       "   param_randomforestclassifier__max_depth  \\\n",
       "0                                       10   \n",
       "1                                       10   \n",
       "2                                       40   \n",
       "3                                       20   \n",
       "4                                       30   \n",
       "5                                       40   \n",
       "6                                       20   \n",
       "7                                       30   \n",
       "8                                       10   \n",
       "9                                       40   \n",
       "10                                      20   \n",
       "11                                      30   \n",
       "\n",
       "   param_randomforestclassifier__n_estimators param_simpleimputer__strategy  \\\n",
       "0                                          25                          mean   \n",
       "1                                          50                          mean   \n",
       "2                                          25                          mean   \n",
       "3                                          25                          mean   \n",
       "4                                          25                          mean   \n",
       "5                                          50                          mean   \n",
       "6                                          50                          mean   \n",
       "7                                          50                          mean   \n",
       "8                                          75                          mean   \n",
       "9                                          75                          mean   \n",
       "10                                         75                          mean   \n",
       "11                                         75                          mean   \n",
       "\n",
       "    mean_test_score  mean_fit_time  \n",
       "0             0.926          1.114  \n",
       "1             0.930          2.274  \n",
       "2             0.958          3.621  \n",
       "3             0.958          3.708  \n",
       "4             0.959          4.109  \n",
       "5             0.958          7.307  \n",
       "6             0.958          7.847  \n",
       "7             0.958          7.847  \n",
       "8             0.931          9.750  \n",
       "9             0.959         11.109  \n",
       "10            0.958         11.487  \n",
       "11            0.960         11.691  "
      ]
     },
     "execution_count": 25,
     "metadata": {},
     "output_type": "execute_result"
    }
   ],
   "source": [
    "mask_1 = (results_rf.param_simpleimputer__strategy == 'mean')\n",
    "visual_ = results_rf[mask_1].groupby(['param_randomforestclassifier__max_depth',\n",
    "                 'param_randomforestclassifier__n_estimators',\n",
    "                 'param_simpleimputer__strategy'],as_index=False).agg({'mean_test_score':'mean',\n",
    "                                                        'mean_fit_time':'mean'}).sort_values('mean_fit_time').reset_index(drop=True)\n",
    "visual_"
   ]
  },
  {
   "cell_type": "code",
   "execution_count": 26,
   "id": "cd9c9ae9-a519-43f2-9e65-75ed728e650a",
   "metadata": {},
   "outputs": [],
   "source": [
    "visual_['max depth-estimators'] =  [f'{pair[0]}-{pair[1]}' for pair in visual_[['param_randomforestclassifier__max_depth','param_randomforestclassifier__n_estimators']].values]"
   ]
  },
  {
   "cell_type": "code",
   "execution_count": 45,
   "id": "9696ff41-04bc-4c98-8e4e-ee0955241237",
   "metadata": {},
   "outputs": [
    {
     "data": {
      "application/vnd.plotly.v1+json": {
       "config": {
        "plotlyServerURL": "https://plot.ly"
       },
       "data": [
        {
         "alignmentgroup": "True",
         "customdata": [
          [
           "mean"
          ],
          [
           "mean"
          ],
          [
           "mean"
          ],
          [
           "mean"
          ],
          [
           "mean"
          ],
          [
           "mean"
          ],
          [
           "mean"
          ],
          [
           "mean"
          ],
          [
           "mean"
          ],
          [
           "mean"
          ],
          [
           "mean"
          ],
          [
           "mean"
          ]
         ],
         "hovertemplate": "max depth-estimators=%{x}<br>mean_fit_time=%{y}<br>Imputer Strategy=%{customdata[0]}<br>mean_test_score=%{marker.color}<extra></extra>",
         "legendgroup": "",
         "marker": {
          "color": [
           0.9257296535508909,
           0.9298965326761282,
           0.9581050820090082,
           0.9576293164499589,
           0.9585812016656753,
           0.9579860343899608,
           0.9575101980113878,
           0.9581051528285318,
           0.9310872213251751,
           0.9589383445228181,
           0.957748151610436,
           0.9595333701594855
          ],
          "coloraxis": "coloraxis",
          "pattern": {
           "shape": ""
          }
         },
         "name": "",
         "offsetgroup": "",
         "orientation": "v",
         "showlegend": false,
         "textposition": "auto",
         "type": "bar",
         "x": [
          "10-25",
          "10-50",
          "40-25",
          "20-25",
          "30-25",
          "40-50",
          "20-50",
          "30-50",
          "10-75",
          "40-75",
          "20-75",
          "30-75"
         ],
         "xaxis": "x",
         "y": [
          1.114019250869751,
          2.2738890171051027,
          3.6208251953125,
          3.7083041191101076,
          4.109234857559204,
          7.306946420669556,
          7.846988773345947,
          7.847189331054688,
          9.749815893173217,
          11.109444046020508,
          11.487214660644531,
          11.69083275794983
         ],
         "yaxis": "y"
        }
       ],
       "layout": {
        "autosize": true,
        "barmode": "relative",
        "coloraxis": {
         "colorbar": {
          "title": {
           "text": "mean_test_score"
          }
         },
         "colorscale": [
          [
           0,
           "rgb(251, 230, 197)"
          ],
          [
           0.16666666666666666,
           "rgb(245, 186, 152)"
          ],
          [
           0.3333333333333333,
           "rgb(238, 138, 130)"
          ],
          [
           0.5,
           "rgb(220, 113, 118)"
          ],
          [
           0.6666666666666666,
           "rgb(200, 88, 108)"
          ],
          [
           0.8333333333333334,
           "rgb(156, 63, 93)"
          ],
          [
           1,
           "rgb(112, 40, 74)"
          ]
         ]
        },
        "legend": {
         "tracegroupgap": 0
        },
        "template": {
         "data": {
          "bar": [
           {
            "error_x": {
             "color": "#2a3f5f"
            },
            "error_y": {
             "color": "#2a3f5f"
            },
            "marker": {
             "line": {
              "color": "#E5ECF6",
              "width": 0.5
             },
             "pattern": {
              "fillmode": "overlay",
              "size": 10,
              "solidity": 0.2
             }
            },
            "type": "bar"
           }
          ],
          "barpolar": [
           {
            "marker": {
             "line": {
              "color": "#E5ECF6",
              "width": 0.5
             },
             "pattern": {
              "fillmode": "overlay",
              "size": 10,
              "solidity": 0.2
             }
            },
            "type": "barpolar"
           }
          ],
          "carpet": [
           {
            "aaxis": {
             "endlinecolor": "#2a3f5f",
             "gridcolor": "white",
             "linecolor": "white",
             "minorgridcolor": "white",
             "startlinecolor": "#2a3f5f"
            },
            "baxis": {
             "endlinecolor": "#2a3f5f",
             "gridcolor": "white",
             "linecolor": "white",
             "minorgridcolor": "white",
             "startlinecolor": "#2a3f5f"
            },
            "type": "carpet"
           }
          ],
          "choropleth": [
           {
            "colorbar": {
             "outlinewidth": 0,
             "ticks": ""
            },
            "type": "choropleth"
           }
          ],
          "contour": [
           {
            "colorbar": {
             "outlinewidth": 0,
             "ticks": ""
            },
            "colorscale": [
             [
              0,
              "#0d0887"
             ],
             [
              0.1111111111111111,
              "#46039f"
             ],
             [
              0.2222222222222222,
              "#7201a8"
             ],
             [
              0.3333333333333333,
              "#9c179e"
             ],
             [
              0.4444444444444444,
              "#bd3786"
             ],
             [
              0.5555555555555556,
              "#d8576b"
             ],
             [
              0.6666666666666666,
              "#ed7953"
             ],
             [
              0.7777777777777778,
              "#fb9f3a"
             ],
             [
              0.8888888888888888,
              "#fdca26"
             ],
             [
              1,
              "#f0f921"
             ]
            ],
            "type": "contour"
           }
          ],
          "contourcarpet": [
           {
            "colorbar": {
             "outlinewidth": 0,
             "ticks": ""
            },
            "type": "contourcarpet"
           }
          ],
          "heatmap": [
           {
            "colorbar": {
             "outlinewidth": 0,
             "ticks": ""
            },
            "colorscale": [
             [
              0,
              "#0d0887"
             ],
             [
              0.1111111111111111,
              "#46039f"
             ],
             [
              0.2222222222222222,
              "#7201a8"
             ],
             [
              0.3333333333333333,
              "#9c179e"
             ],
             [
              0.4444444444444444,
              "#bd3786"
             ],
             [
              0.5555555555555556,
              "#d8576b"
             ],
             [
              0.6666666666666666,
              "#ed7953"
             ],
             [
              0.7777777777777778,
              "#fb9f3a"
             ],
             [
              0.8888888888888888,
              "#fdca26"
             ],
             [
              1,
              "#f0f921"
             ]
            ],
            "type": "heatmap"
           }
          ],
          "heatmapgl": [
           {
            "colorbar": {
             "outlinewidth": 0,
             "ticks": ""
            },
            "colorscale": [
             [
              0,
              "#0d0887"
             ],
             [
              0.1111111111111111,
              "#46039f"
             ],
             [
              0.2222222222222222,
              "#7201a8"
             ],
             [
              0.3333333333333333,
              "#9c179e"
             ],
             [
              0.4444444444444444,
              "#bd3786"
             ],
             [
              0.5555555555555556,
              "#d8576b"
             ],
             [
              0.6666666666666666,
              "#ed7953"
             ],
             [
              0.7777777777777778,
              "#fb9f3a"
             ],
             [
              0.8888888888888888,
              "#fdca26"
             ],
             [
              1,
              "#f0f921"
             ]
            ],
            "type": "heatmapgl"
           }
          ],
          "histogram": [
           {
            "marker": {
             "pattern": {
              "fillmode": "overlay",
              "size": 10,
              "solidity": 0.2
             }
            },
            "type": "histogram"
           }
          ],
          "histogram2d": [
           {
            "colorbar": {
             "outlinewidth": 0,
             "ticks": ""
            },
            "colorscale": [
             [
              0,
              "#0d0887"
             ],
             [
              0.1111111111111111,
              "#46039f"
             ],
             [
              0.2222222222222222,
              "#7201a8"
             ],
             [
              0.3333333333333333,
              "#9c179e"
             ],
             [
              0.4444444444444444,
              "#bd3786"
             ],
             [
              0.5555555555555556,
              "#d8576b"
             ],
             [
              0.6666666666666666,
              "#ed7953"
             ],
             [
              0.7777777777777778,
              "#fb9f3a"
             ],
             [
              0.8888888888888888,
              "#fdca26"
             ],
             [
              1,
              "#f0f921"
             ]
            ],
            "type": "histogram2d"
           }
          ],
          "histogram2dcontour": [
           {
            "colorbar": {
             "outlinewidth": 0,
             "ticks": ""
            },
            "colorscale": [
             [
              0,
              "#0d0887"
             ],
             [
              0.1111111111111111,
              "#46039f"
             ],
             [
              0.2222222222222222,
              "#7201a8"
             ],
             [
              0.3333333333333333,
              "#9c179e"
             ],
             [
              0.4444444444444444,
              "#bd3786"
             ],
             [
              0.5555555555555556,
              "#d8576b"
             ],
             [
              0.6666666666666666,
              "#ed7953"
             ],
             [
              0.7777777777777778,
              "#fb9f3a"
             ],
             [
              0.8888888888888888,
              "#fdca26"
             ],
             [
              1,
              "#f0f921"
             ]
            ],
            "type": "histogram2dcontour"
           }
          ],
          "mesh3d": [
           {
            "colorbar": {
             "outlinewidth": 0,
             "ticks": ""
            },
            "type": "mesh3d"
           }
          ],
          "parcoords": [
           {
            "line": {
             "colorbar": {
              "outlinewidth": 0,
              "ticks": ""
             }
            },
            "type": "parcoords"
           }
          ],
          "pie": [
           {
            "automargin": true,
            "type": "pie"
           }
          ],
          "scatter": [
           {
            "fillpattern": {
             "fillmode": "overlay",
             "size": 10,
             "solidity": 0.2
            },
            "type": "scatter"
           }
          ],
          "scatter3d": [
           {
            "line": {
             "colorbar": {
              "outlinewidth": 0,
              "ticks": ""
             }
            },
            "marker": {
             "colorbar": {
              "outlinewidth": 0,
              "ticks": ""
             }
            },
            "type": "scatter3d"
           }
          ],
          "scattercarpet": [
           {
            "marker": {
             "colorbar": {
              "outlinewidth": 0,
              "ticks": ""
             }
            },
            "type": "scattercarpet"
           }
          ],
          "scattergeo": [
           {
            "marker": {
             "colorbar": {
              "outlinewidth": 0,
              "ticks": ""
             }
            },
            "type": "scattergeo"
           }
          ],
          "scattergl": [
           {
            "marker": {
             "colorbar": {
              "outlinewidth": 0,
              "ticks": ""
             }
            },
            "type": "scattergl"
           }
          ],
          "scattermapbox": [
           {
            "marker": {
             "colorbar": {
              "outlinewidth": 0,
              "ticks": ""
             }
            },
            "type": "scattermapbox"
           }
          ],
          "scatterpolar": [
           {
            "marker": {
             "colorbar": {
              "outlinewidth": 0,
              "ticks": ""
             }
            },
            "type": "scatterpolar"
           }
          ],
          "scatterpolargl": [
           {
            "marker": {
             "colorbar": {
              "outlinewidth": 0,
              "ticks": ""
             }
            },
            "type": "scatterpolargl"
           }
          ],
          "scatterternary": [
           {
            "marker": {
             "colorbar": {
              "outlinewidth": 0,
              "ticks": ""
             }
            },
            "type": "scatterternary"
           }
          ],
          "surface": [
           {
            "colorbar": {
             "outlinewidth": 0,
             "ticks": ""
            },
            "colorscale": [
             [
              0,
              "#0d0887"
             ],
             [
              0.1111111111111111,
              "#46039f"
             ],
             [
              0.2222222222222222,
              "#7201a8"
             ],
             [
              0.3333333333333333,
              "#9c179e"
             ],
             [
              0.4444444444444444,
              "#bd3786"
             ],
             [
              0.5555555555555556,
              "#d8576b"
             ],
             [
              0.6666666666666666,
              "#ed7953"
             ],
             [
              0.7777777777777778,
              "#fb9f3a"
             ],
             [
              0.8888888888888888,
              "#fdca26"
             ],
             [
              1,
              "#f0f921"
             ]
            ],
            "type": "surface"
           }
          ],
          "table": [
           {
            "cells": {
             "fill": {
              "color": "#EBF0F8"
             },
             "line": {
              "color": "white"
             }
            },
            "header": {
             "fill": {
              "color": "#C8D4E3"
             },
             "line": {
              "color": "white"
             }
            },
            "type": "table"
           }
          ]
         },
         "layout": {
          "annotationdefaults": {
           "arrowcolor": "#2a3f5f",
           "arrowhead": 0,
           "arrowwidth": 1
          },
          "autotypenumbers": "strict",
          "coloraxis": {
           "colorbar": {
            "outlinewidth": 0,
            "ticks": ""
           }
          },
          "colorscale": {
           "diverging": [
            [
             0,
             "#8e0152"
            ],
            [
             0.1,
             "#c51b7d"
            ],
            [
             0.2,
             "#de77ae"
            ],
            [
             0.3,
             "#f1b6da"
            ],
            [
             0.4,
             "#fde0ef"
            ],
            [
             0.5,
             "#f7f7f7"
            ],
            [
             0.6,
             "#e6f5d0"
            ],
            [
             0.7,
             "#b8e186"
            ],
            [
             0.8,
             "#7fbc41"
            ],
            [
             0.9,
             "#4d9221"
            ],
            [
             1,
             "#276419"
            ]
           ],
           "sequential": [
            [
             0,
             "#0d0887"
            ],
            [
             0.1111111111111111,
             "#46039f"
            ],
            [
             0.2222222222222222,
             "#7201a8"
            ],
            [
             0.3333333333333333,
             "#9c179e"
            ],
            [
             0.4444444444444444,
             "#bd3786"
            ],
            [
             0.5555555555555556,
             "#d8576b"
            ],
            [
             0.6666666666666666,
             "#ed7953"
            ],
            [
             0.7777777777777778,
             "#fb9f3a"
            ],
            [
             0.8888888888888888,
             "#fdca26"
            ],
            [
             1,
             "#f0f921"
            ]
           ],
           "sequentialminus": [
            [
             0,
             "#0d0887"
            ],
            [
             0.1111111111111111,
             "#46039f"
            ],
            [
             0.2222222222222222,
             "#7201a8"
            ],
            [
             0.3333333333333333,
             "#9c179e"
            ],
            [
             0.4444444444444444,
             "#bd3786"
            ],
            [
             0.5555555555555556,
             "#d8576b"
            ],
            [
             0.6666666666666666,
             "#ed7953"
            ],
            [
             0.7777777777777778,
             "#fb9f3a"
            ],
            [
             0.8888888888888888,
             "#fdca26"
            ],
            [
             1,
             "#f0f921"
            ]
           ]
          },
          "colorway": [
           "#636efa",
           "#EF553B",
           "#00cc96",
           "#ab63fa",
           "#FFA15A",
           "#19d3f3",
           "#FF6692",
           "#B6E880",
           "#FF97FF",
           "#FECB52"
          ],
          "font": {
           "color": "#2a3f5f"
          },
          "geo": {
           "bgcolor": "white",
           "lakecolor": "white",
           "landcolor": "#E5ECF6",
           "showlakes": true,
           "showland": true,
           "subunitcolor": "white"
          },
          "hoverlabel": {
           "align": "left"
          },
          "hovermode": "closest",
          "mapbox": {
           "style": "light"
          },
          "paper_bgcolor": "white",
          "plot_bgcolor": "#E5ECF6",
          "polar": {
           "angularaxis": {
            "gridcolor": "white",
            "linecolor": "white",
            "ticks": ""
           },
           "bgcolor": "#E5ECF6",
           "radialaxis": {
            "gridcolor": "white",
            "linecolor": "white",
            "ticks": ""
           }
          },
          "scene": {
           "xaxis": {
            "backgroundcolor": "#E5ECF6",
            "gridcolor": "white",
            "gridwidth": 2,
            "linecolor": "white",
            "showbackground": true,
            "ticks": "",
            "zerolinecolor": "white"
           },
           "yaxis": {
            "backgroundcolor": "#E5ECF6",
            "gridcolor": "white",
            "gridwidth": 2,
            "linecolor": "white",
            "showbackground": true,
            "ticks": "",
            "zerolinecolor": "white"
           },
           "zaxis": {
            "backgroundcolor": "#E5ECF6",
            "gridcolor": "white",
            "gridwidth": 2,
            "linecolor": "white",
            "showbackground": true,
            "ticks": "",
            "zerolinecolor": "white"
           }
          },
          "shapedefaults": {
           "line": {
            "color": "#2a3f5f"
           }
          },
          "ternary": {
           "aaxis": {
            "gridcolor": "white",
            "linecolor": "white",
            "ticks": ""
           },
           "baxis": {
            "gridcolor": "white",
            "linecolor": "white",
            "ticks": ""
           },
           "bgcolor": "#E5ECF6",
           "caxis": {
            "gridcolor": "white",
            "linecolor": "white",
            "ticks": ""
           }
          },
          "title": {
           "x": 0.05
          },
          "xaxis": {
           "automargin": true,
           "gridcolor": "white",
           "linecolor": "white",
           "ticks": "",
           "title": {
            "standoff": 15
           },
           "zerolinecolor": "white",
           "zerolinewidth": 2
          },
          "yaxis": {
           "automargin": true,
           "gridcolor": "white",
           "linecolor": "white",
           "ticks": "",
           "title": {
            "standoff": 15
           },
           "zerolinecolor": "white",
           "zerolinewidth": 2
          }
         }
        },
        "title": {
         "text": "Measure the proper model according to mean time and mean score"
        },
        "xaxis": {
         "anchor": "y",
         "autorange": true,
         "domain": [
          0,
          1
         ],
         "range": [
          -0.5,
          11.5
         ],
         "title": {
          "text": "Max Depth - Number of Estimators"
         },
         "type": "category"
        },
        "yaxis": {
         "anchor": "x",
         "autorange": true,
         "domain": [
          0,
          1
         ],
         "range": [
          0,
          12.306139745210347
         ],
         "title": {
          "text": "Mean Fit Time [seconds]"
         },
         "type": "linear"
        }
       }
      },
      "image/png": "[encoded data removed]",
      "text/html": [
       "<div>                            <div id=\"4ec63396-8a54-47c8-a090-ccfe28c08358\" class=\"plotly-graph-div\" style=\"height:525px; width:100%;\"></div>            <script type=\"text/javascript\">                require([\"plotly\"], function(Plotly) {                    window.PLOTLYENV=window.PLOTLYENV || {};                                    if (document.getElementById(\"4ec63396-8a54-47c8-a090-ccfe28c08358\")) {                    Plotly.newPlot(                        \"4ec63396-8a54-47c8-a090-ccfe28c08358\",                        [{\"alignmentgroup\":\"True\",\"customdata\":[[\"mean\"],[\"mean\"],[\"mean\"],[\"mean\"],[\"mean\"],[\"mean\"],[\"mean\"],[\"mean\"],[\"mean\"],[\"mean\"],[\"mean\"],[\"mean\"]],\"hovertemplate\":\"max depth-estimators=%{x}<br>mean_fit_time=%{y}<br>Imputer Strategy=%{customdata[0]}<br>mean_test_score=%{marker.color}<extra></extra>\",\"legendgroup\":\"\",\"marker\":{\"color\":[0.9257296535508909,0.9298965326761282,0.9581050820090082,0.9576293164499589,0.9585812016656753,0.9579860343899608,0.9575101980113878,0.9581051528285318,0.9310872213251751,0.9589383445228181,0.957748151610436,0.9595333701594855],\"coloraxis\":\"coloraxis\",\"pattern\":{\"shape\":\"\"}},\"name\":\"\",\"offsetgroup\":\"\",\"orientation\":\"v\",\"showlegend\":false,\"textposition\":\"auto\",\"x\":[\"10-25\",\"10-50\",\"40-25\",\"20-25\",\"30-25\",\"40-50\",\"20-50\",\"30-50\",\"10-75\",\"40-75\",\"20-75\",\"30-75\"],\"xaxis\":\"x\",\"y\":[1.114019250869751,2.2738890171051027,3.6208251953125,3.7083041191101076,4.109234857559204,7.306946420669556,7.846988773345947,7.847189331054688,9.749815893173217,11.109444046020508,11.487214660644531,11.69083275794983],\"yaxis\":\"y\",\"type\":\"bar\"}],                        {\"template\":{\"data\":{\"histogram2dcontour\":[{\"type\":\"histogram2dcontour\",\"colorbar\":{\"outlinewidth\":0,\"ticks\":\"\"},\"colorscale\":[[0.0,\"#0d0887\"],[0.1111111111111111,\"#46039f\"],[0.2222222222222222,\"#7201a8\"],[0.3333333333333333,\"#9c179e\"],[0.4444444444444444,\"#bd3786\"],[0.5555555555555556,\"#d8576b\"],[0.6666666666666666,\"#ed7953\"],[0.7777777777777778,\"#fb9f3a\"],[0.8888888888888888,\"#fdca26\"],[1.0,\"#f0f921\"]]}],\"choropleth\":[{\"type\":\"choropleth\",\"colorbar\":{\"outlinewidth\":0,\"ticks\":\"\"}}],\"histogram2d\":[{\"type\":\"histogram2d\",\"colorbar\":{\"outlinewidth\":0,\"ticks\":\"\"},\"colorscale\":[[0.0,\"#0d0887\"],[0.1111111111111111,\"#46039f\"],[0.2222222222222222,\"#7201a8\"],[0.3333333333333333,\"#9c179e\"],[0.4444444444444444,\"#bd3786\"],[0.5555555555555556,\"#d8576b\"],[0.6666666666666666,\"#ed7953\"],[0.7777777777777778,\"#fb9f3a\"],[0.8888888888888888,\"#fdca26\"],[1.0,\"#f0f921\"]]}],\"heatmap\":[{\"type\":\"heatmap\",\"colorbar\":{\"outlinewidth\":0,\"ticks\":\"\"},\"colorscale\":[[0.0,\"#0d0887\"],[0.1111111111111111,\"#46039f\"],[0.2222222222222222,\"#7201a8\"],[0.3333333333333333,\"#9c179e\"],[0.4444444444444444,\"#bd3786\"],[0.5555555555555556,\"#d8576b\"],[0.6666666666666666,\"#ed7953\"],[0.7777777777777778,\"#fb9f3a\"],[0.8888888888888888,\"#fdca26\"],[1.0,\"#f0f921\"]]}],\"heatmapgl\":[{\"type\":\"heatmapgl\",\"colorbar\":{\"outlinewidth\":0,\"ticks\":\"\"},\"colorscale\":[[0.0,\"#0d0887\"],[0.1111111111111111,\"#46039f\"],[0.2222222222222222,\"#7201a8\"],[0.3333333333333333,\"#9c179e\"],[0.4444444444444444,\"#bd3786\"],[0.5555555555555556,\"#d8576b\"],[0.6666666666666666,\"#ed7953\"],[0.7777777777777778,\"#fb9f3a\"],[0.8888888888888888,\"#fdca26\"],[1.0,\"#f0f921\"]]}],\"contourcarpet\":[{\"type\":\"contourcarpet\",\"colorbar\":{\"outlinewidth\":0,\"ticks\":\"\"}}],\"contour\":[{\"type\":\"contour\",\"colorbar\":{\"outlinewidth\":0,\"ticks\":\"\"},\"colorscale\":[[0.0,\"#0d0887\"],[0.1111111111111111,\"#46039f\"],[0.2222222222222222,\"#7201a8\"],[0.3333333333333333,\"#9c179e\"],[0.4444444444444444,\"#bd3786\"],[0.5555555555555556,\"#d8576b\"],[0.6666666666666666,\"#ed7953\"],[0.7777777777777778,\"#fb9f3a\"],[0.8888888888888888,\"#fdca26\"],[1.0,\"#f0f921\"]]}],\"surface\":[{\"type\":\"surface\",\"colorbar\":{\"outlinewidth\":0,\"ticks\":\"\"},\"colorscale\":[[0.0,\"#0d0887\"],[0.1111111111111111,\"#46039f\"],[0.2222222222222222,\"#7201a8\"],[0.3333333333333333,\"#9c179e\"],[0.4444444444444444,\"#bd3786\"],[0.5555555555555556,\"#d8576b\"],[0.6666666666666666,\"#ed7953\"],[0.7777777777777778,\"#fb9f3a\"],[0.8888888888888888,\"#fdca26\"],[1.0,\"#f0f921\"]]}],\"mesh3d\":[{\"type\":\"mesh3d\",\"colorbar\":{\"outlinewidth\":0,\"ticks\":\"\"}}],\"scatter\":[{\"fillpattern\":{\"fillmode\":\"overlay\",\"size\":10,\"solidity\":0.2},\"type\":\"scatter\"}],\"parcoords\":[{\"type\":\"parcoords\",\"line\":{\"colorbar\":{\"outlinewidth\":0,\"ticks\":\"\"}}}],\"scatterpolargl\":[{\"type\":\"scatterpolargl\",\"marker\":{\"colorbar\":{\"outlinewidth\":0,\"ticks\":\"\"}}}],\"bar\":[{\"error_x\":{\"color\":\"#2a3f5f\"},\"error_y\":{\"color\":\"#2a3f5f\"},\"marker\":{\"line\":{\"color\":\"#E5ECF6\",\"width\":0.5},\"pattern\":{\"fillmode\":\"overlay\",\"size\":10,\"solidity\":0.2}},\"type\":\"bar\"}],\"scattergeo\":[{\"type\":\"scattergeo\",\"marker\":{\"colorbar\":{\"outlinewidth\":0,\"ticks\":\"\"}}}],\"scatterpolar\":[{\"type\":\"scatterpolar\",\"marker\":{\"colorbar\":{\"outlinewidth\":0,\"ticks\":\"\"}}}],\"histogram\":[{\"marker\":{\"pattern\":{\"fillmode\":\"overlay\",\"size\":10,\"solidity\":0.2}},\"type\":\"histogram\"}],\"scattergl\":[{\"type\":\"scattergl\",\"marker\":{\"colorbar\":{\"outlinewidth\":0,\"ticks\":\"\"}}}],\"scatter3d\":[{\"type\":\"scatter3d\",\"line\":{\"colorbar\":{\"outlinewidth\":0,\"ticks\":\"\"}},\"marker\":{\"colorbar\":{\"outlinewidth\":0,\"ticks\":\"\"}}}],\"scattermapbox\":[{\"type\":\"scattermapbox\",\"marker\":{\"colorbar\":{\"outlinewidth\":0,\"ticks\":\"\"}}}],\"scatterternary\":[{\"type\":\"scatterternary\",\"marker\":{\"colorbar\":{\"outlinewidth\":0,\"ticks\":\"\"}}}],\"scattercarpet\":[{\"type\":\"scattercarpet\",\"marker\":{\"colorbar\":{\"outlinewidth\":0,\"ticks\":\"\"}}}],\"carpet\":[{\"aaxis\":{\"endlinecolor\":\"#2a3f5f\",\"gridcolor\":\"white\",\"linecolor\":\"white\",\"minorgridcolor\":\"white\",\"startlinecolor\":\"#2a3f5f\"},\"baxis\":{\"endlinecolor\":\"#2a3f5f\",\"gridcolor\":\"white\",\"linecolor\":\"white\",\"minorgridcolor\":\"white\",\"startlinecolor\":\"#2a3f5f\"},\"type\":\"carpet\"}],\"table\":[{\"cells\":{\"fill\":{\"color\":\"#EBF0F8\"},\"line\":{\"color\":\"white\"}},\"header\":{\"fill\":{\"color\":\"#C8D4E3\"},\"line\":{\"color\":\"white\"}},\"type\":\"table\"}],\"barpolar\":[{\"marker\":{\"line\":{\"color\":\"#E5ECF6\",\"width\":0.5},\"pattern\":{\"fillmode\":\"overlay\",\"size\":10,\"solidity\":0.2}},\"type\":\"barpolar\"}],\"pie\":[{\"automargin\":true,\"type\":\"pie\"}]},\"layout\":{\"autotypenumbers\":\"strict\",\"colorway\":[\"#636efa\",\"#EF553B\",\"#00cc96\",\"#ab63fa\",\"#FFA15A\",\"#19d3f3\",\"#FF6692\",\"#B6E880\",\"#FF97FF\",\"#FECB52\"],\"font\":{\"color\":\"#2a3f5f\"},\"hovermode\":\"closest\",\"hoverlabel\":{\"align\":\"left\"},\"paper_bgcolor\":\"white\",\"plot_bgcolor\":\"#E5ECF6\",\"polar\":{\"bgcolor\":\"#E5ECF6\",\"angularaxis\":{\"gridcolor\":\"white\",\"linecolor\":\"white\",\"ticks\":\"\"},\"radialaxis\":{\"gridcolor\":\"white\",\"linecolor\":\"white\",\"ticks\":\"\"}},\"ternary\":{\"bgcolor\":\"#E5ECF6\",\"aaxis\":{\"gridcolor\":\"white\",\"linecolor\":\"white\",\"ticks\":\"\"},\"baxis\":{\"gridcolor\":\"white\",\"linecolor\":\"white\",\"ticks\":\"\"},\"caxis\":{\"gridcolor\":\"white\",\"linecolor\":\"white\",\"ticks\":\"\"}},\"coloraxis\":{\"colorbar\":{\"outlinewidth\":0,\"ticks\":\"\"}},\"colorscale\":{\"sequential\":[[0.0,\"#0d0887\"],[0.1111111111111111,\"#46039f\"],[0.2222222222222222,\"#7201a8\"],[0.3333333333333333,\"#9c179e\"],[0.4444444444444444,\"#bd3786\"],[0.5555555555555556,\"#d8576b\"],[0.6666666666666666,\"#ed7953\"],[0.7777777777777778,\"#fb9f3a\"],[0.8888888888888888,\"#fdca26\"],[1.0,\"#f0f921\"]],\"sequentialminus\":[[0.0,\"#0d0887\"],[0.1111111111111111,\"#46039f\"],[0.2222222222222222,\"#7201a8\"],[0.3333333333333333,\"#9c179e\"],[0.4444444444444444,\"#bd3786\"],[0.5555555555555556,\"#d8576b\"],[0.6666666666666666,\"#ed7953\"],[0.7777777777777778,\"#fb9f3a\"],[0.8888888888888888,\"#fdca26\"],[1.0,\"#f0f921\"]],\"diverging\":[[0,\"#8e0152\"],[0.1,\"#c51b7d\"],[0.2,\"#de77ae\"],[0.3,\"#f1b6da\"],[0.4,\"#fde0ef\"],[0.5,\"#f7f7f7\"],[0.6,\"#e6f5d0\"],[0.7,\"#b8e186\"],[0.8,\"#7fbc41\"],[0.9,\"#4d9221\"],[1,\"#276419\"]]},\"xaxis\":{\"gridcolor\":\"white\",\"linecolor\":\"white\",\"ticks\":\"\",\"title\":{\"standoff\":15},\"zerolinecolor\":\"white\",\"automargin\":true,\"zerolinewidth\":2},\"yaxis\":{\"gridcolor\":\"white\",\"linecolor\":\"white\",\"ticks\":\"\",\"title\":{\"standoff\":15},\"zerolinecolor\":\"white\",\"automargin\":true,\"zerolinewidth\":2},\"scene\":{\"xaxis\":{\"backgroundcolor\":\"#E5ECF6\",\"gridcolor\":\"white\",\"linecolor\":\"white\",\"showbackground\":true,\"ticks\":\"\",\"zerolinecolor\":\"white\",\"gridwidth\":2},\"yaxis\":{\"backgroundcolor\":\"#E5ECF6\",\"gridcolor\":\"white\",\"linecolor\":\"white\",\"showbackground\":true,\"ticks\":\"\",\"zerolinecolor\":\"white\",\"gridwidth\":2},\"zaxis\":{\"backgroundcolor\":\"#E5ECF6\",\"gridcolor\":\"white\",\"linecolor\":\"white\",\"showbackground\":true,\"ticks\":\"\",\"zerolinecolor\":\"white\",\"gridwidth\":2}},\"shapedefaults\":{\"line\":{\"color\":\"#2a3f5f\"}},\"annotationdefaults\":{\"arrowcolor\":\"#2a3f5f\",\"arrowhead\":0,\"arrowwidth\":1},\"geo\":{\"bgcolor\":\"white\",\"landcolor\":\"#E5ECF6\",\"subunitcolor\":\"white\",\"showland\":true,\"showlakes\":true,\"lakecolor\":\"white\"},\"title\":{\"x\":0.05},\"mapbox\":{\"style\":\"light\"}}},\"xaxis\":{\"anchor\":\"y\",\"domain\":[0.0,1.0],\"title\":{\"text\":\"Max Depth - Number of Estimators\"}},\"yaxis\":{\"anchor\":\"x\",\"domain\":[0.0,1.0],\"title\":{\"text\":\"Mean Fit Time [seconds]\"}},\"coloraxis\":{\"colorbar\":{\"title\":{\"text\":\"mean_test_score\"}},\"colorscale\":[[0.0,\"rgb(251, 230, 197)\"],[0.16666666666666666,\"rgb(245, 186, 152)\"],[0.3333333333333333,\"rgb(238, 138, 130)\"],[0.5,\"rgb(220, 113, 118)\"],[0.6666666666666666,\"rgb(200, 88, 108)\"],[0.8333333333333334,\"rgb(156, 63, 93)\"],[1.0,\"rgb(112, 40, 74)\"]]},\"legend\":{\"tracegroupgap\":0},\"title\":{\"text\":\"Measure the proper model according to mean time and mean score\"},\"barmode\":\"relative\"},                        {\"responsive\": true}                    ).then(function(){\n",
       "                            \n",
       "var gd = document.getElementById('4ec63396-8a54-47c8-a090-ccfe28c08358');\n",
       "var x = new MutationObserver(function (mutations, observer) {{\n",
       "        var display = window.getComputedStyle(gd).display;\n",
       "        if (!display || display === 'none') {{\n",
       "            console.log([gd, 'removed!']);\n",
       "            Plotly.purge(gd);\n",
       "            observer.disconnect();\n",
       "        }}\n",
       "}});\n",
       "\n",
       "// Listen for the removal of the full notebook cells\n",
       "var notebookContainer = gd.closest('#notebook-container');\n",
       "if (notebookContainer) {{\n",
       "    x.observe(notebookContainer, {childList: true});\n",
       "}}\n",
       "\n",
       "// Listen for the clearing of the current output cell\n",
       "var outputEl = gd.closest('.output');\n",
       "if (outputEl) {{\n",
       "    x.observe(outputEl, {childList: true});\n",
       "}}\n",
       "\n",
       "                        })                };                });            </script>        </div>"
      ]
     },
     "metadata": {},
     "output_type": "display_data"
    }
   ],
   "source": [
    "fig = px.bar(data_frame=visual_,\n",
    "             x='max depth-estimators',\n",
    "             y='mean_fit_time',\n",
    "             color='mean_test_score',\n",
    "             color_continuous_scale= 'burgyl',\n",
    "             title='Measure the proper model according to mean time and mean score',\n",
    "             hover_data=['param_simpleimputer__strategy'],\n",
    "             labels={'param_simpleimputer__strategy':'Imputer Strategy'}\n",
    "            )\n",
    "fig.update_layout(xaxis_title='Max Depth - Number of Estimators',yaxis_title='Mean Fit Time [seconds]')\n",
    "fig.show()"
   ]
  },
  {
   "cell_type": "markdown",
   "id": "4503e79f-5894-4f21-a3c3-3b878f14e07b",
   "metadata": {},
   "source": [
    "## Evaluate"
   ]
  },
  {
   "cell_type": "markdown",
   "id": "ba4d358f-8524-45da-8dd5-27c0098d48c0",
   "metadata": {},
   "source": [
    "Calculate the training and test accuracy scores for `model`. "
   ]
  },
  {
   "cell_type": "code",
   "execution_count": 46,
   "id": "9f1c5f97-e90d-4211-a7e3-5d5c6f5295db",
   "metadata": {},
   "outputs": [
    {
     "name": "stdout",
     "output_type": "stream",
     "text": [
      "Training Accuracy: 1.0\n",
      "Validation Accuracy: 0.9605\n"
     ]
    }
   ],
   "source": [
    "acc_train = model_rf.score(X_train,y_train)\n",
    "acc_test = model_rf.score(X_test,y_test)\n",
    "\n",
    "print(\"Training Accuracy:\", round(acc_train, 4))\n",
    "print(\"Validation Accuracy:\", round(acc_test, 4))"
   ]
  },
  {
   "cell_type": "markdown",
   "id": "82d96309-0271-44d7-8777-33a198ab47a3",
   "metadata": {},
   "source": [
    "Next, we're going to use a confusion matrix to see how our model performs. To better understand the values we'll see in the matrix, let's first count how many observations in our test set belong to the positive and negative classes."
   ]
  },
  {
   "cell_type": "code",
   "execution_count": 54,
   "id": "2a50d27c-2e19-4101-ac53-626cd42c1aab",
   "metadata": {},
   "outputs": [
    {
     "data": {
      "text/plain": [
       "0    1994\n",
       "1     107\n",
       "Name: bankrupt, dtype: int64"
      ]
     },
     "execution_count": 54,
     "metadata": {},
     "output_type": "execute_result"
    }
   ],
   "source": [
    "y_test.value_counts()"
   ]
  },
  {
   "cell_type": "code",
   "execution_count": 49,
   "id": "1e1802df-7cd2-4a6c-bfb8-932b5b9bc189",
   "metadata": {},
   "outputs": [
    {
     "data": {
      "image/png": "[encoded data removed]",
      "text/plain": [
       "<Figure size 640x480 with 2 Axes>"
      ]
     },
     "metadata": {},
     "output_type": "display_data"
    }
   ],
   "source": [
    "# Plot confusion matrix\n",
    "ConfusionMatrixDisplay.from_estimator(model_rf,X_test,y_test)\n",
    "plt.show()"
   ]
  },
  {
   "cell_type": "markdown",
   "id": "4495665b-b411-483b-9cfe-529b3c1fe678",
   "metadata": {},
   "source": [
    "This matrix is a great reminder of how imbalanced our data is, and of why accuracy isn't always the best metric for judging whether or not a model is giving us what we want. \n",
    "\n",
    "The accuracy score will be amazing, but it won't tell us what we really need to know.\n",
    "\n",
    "Instead, we can evaluate our model using two new metrics: precision and recall. \n",
    " - The precision score is important when we want our model to only predict that a company will go bankrupt if its very confident in its prediction. \n",
    " - The recall score is important if we want to make sure to identify all the companies that will go bankrupt, even if that means being incorrect sometimes."
   ]
  },
  {
   "cell_type": "code",
   "execution_count": 52,
   "id": "ebef51dc-bf9f-47a6-a6bc-3ac83874e817",
   "metadata": {},
   "outputs": [
    {
     "name": "stdout",
     "output_type": "stream",
     "text": [
      "              precision    recall  f1-score   support\n",
      "\n",
      "           0       0.96      1.00      0.98      1994\n",
      "           1       0.90      0.25      0.39       107\n",
      "\n",
      "    accuracy                           0.96      2101\n",
      "   macro avg       0.93      0.63      0.69      2101\n",
      "weighted avg       0.96      0.96      0.95      2101\n",
      "\n"
     ]
    }
   ],
   "source": [
    "# Print classification report\n",
    "print(classification_report(y_test,model_rf.predict(X_test)))"
   ]
  },
  {
   "cell_type": "markdown",
   "id": "e07c9fb4-ace6-4618-93ea-b94eebccf13d",
   "metadata": {},
   "source": [
    "Because there's a tradeoff between precision (the quality of our prediction) and recall(the true quantity of true label), we should select between the measure of how \"precise\" our model and the measure of our model's ability base on reality. \n",
    "\n",
    "Hence depend on the aim, we could change the threshold to get the appropriate model. "
   ]
  },
  {
   "cell_type": "markdown",
   "id": "558eaad3-aca5-4dd6-bd57-0aa09a3fa34e",
   "metadata": {},
   "source": [
    "`Assumption:`\n",
    "\n",
    "Let's say we work at a private equity firm that purchases distressed businesses, improve them, and then sells them for a profit. You want to build a model to predict which companies will go bankrupt so that you can purchase them ahead of your competitors. \n",
    "\n",
    "If the firm purchases a company that is indeed insolvent, it can make a profit of €100 million or more. But if it purchases a company that isn't insolvent and can't be resold at a profit, the firm will lose €250 million.\n",
    "\n",
    "`Solution:`\n",
    "\n",
    "For a model like this, we want to focus on ***precision***. If we're trying to maximize our profit, the quality of our predictions is much more important than the quantity of our predictions. \n",
    "\n",
    "It's not a big deal if we don't catch every single insolvent company, but it's **definitely** a big deal if the companies we catch don't end up becoming insolvent."
   ]
  },
  {
   "cell_type": "code",
   "execution_count": 61,
   "id": "77ef326b-210c-44f2-ab4e-df65a8f9195e",
   "metadata": {},
   "outputs": [],
   "source": [
    "def make_cnf_matrix(threshold):\n",
    "    \n",
    "    # Define prediction \n",
    "    y_pred_proba = model_rf.predict_proba(X_test)[:,-1]\n",
    "    y_pred = y_pred_proba > threshold\n",
    "    conf_matrix = confusion_matrix(y_test,y_pred)\n",
    "    \n",
    "    # Calculate the values in confusion matrx \n",
    "    tn,fp,fn,tp = conf_matrix.ravel()\n",
    "\n",
    "    print(f'Profit: ${round(tp * 0.1,2)} billion')\n",
    "    print(f'Loss: ${round(fp * 0.25,2)} billion')\n",
    "    print(f'Diff between Profit and Loss:  ${round((tp*0.1)-(fp*0.25),2)} billion')\n",
    "    \n",
    "    # Visual the confusion matrix\n",
    "    ConfusionMatrixDisplay.from_predictions(y_test,y_pred, colorbar=False)\n",
    "    plt.show()"
   ]
  },
  {
   "cell_type": "code",
   "execution_count": 62,
   "id": "a4c1e04c-5a2f-40e5-b552-d73c2e42ac5e",
   "metadata": {},
   "outputs": [
    {
     "data": {
      "application/vnd.jupyter.widget-view+json": {
       "model_id": "627a5a7605844113a44685e1e3014eb6",
       "version_major": 2,
       "version_minor": 0
      },
      "text/plain": [
       "interactive(children=(FloatSlider(value=0.5, description='threshold', max=1.0, step=0.05), Output()), _dom_cla…"
      ]
     },
     "metadata": {},
     "output_type": "display_data"
    }
   ],
   "source": [
    "thresh_widget = widgets.FloatSlider(value=0.5,\n",
    "                                    min=0,\n",
    "                                    max=1,\n",
    "                                    step=0.05)\n",
    "\n",
    "interact(make_cnf_matrix, threshold=thresh_widget);"
   ]
  },
  {
   "cell_type": "markdown",
   "id": "7aff8687-8bfb-4eda-8569-caa136c237a0",
   "metadata": {},
   "source": [
    "# Communication"
   ]
  },
  {
   "cell_type": "code",
   "execution_count": 82,
   "id": "be025c81-8fa5-4669-ac3e-38df63d02979",
   "metadata": {},
   "outputs": [],
   "source": [
    "# Save model \n",
    "with open('clf-model.pkl',mode='wb') as f:\n",
    "    pickle.dump(model_rf,f)"
   ]
  },
  {
   "cell_type": "code",
   "execution_count": 83,
   "id": "322f18e2-55ae-4360-9573-294bd95c2828",
   "metadata": {},
   "outputs": [],
   "source": [
    "from predictor import make_predictions, wrangle\n",
    "file = r'dataset/2year.arff'\n",
    "model_name = 'clf-model.pkl'"
   ]
  },
  {
   "cell_type": "code",
   "execution_count": 84,
   "id": "efd13904-5d6b-4272-be3c-05a072d090ef",
   "metadata": {},
   "outputs": [
    {
     "name": "stdout",
     "output_type": "stream",
     "text": [
      "predictions shape: (10173,)\n"
     ]
    },
    {
     "data": {
      "text/plain": [
       "0    0\n",
       "1    0\n",
       "2    0\n",
       "3    0\n",
       "4    0\n",
       "Name: bankrupt, dtype: int64"
      ]
     },
     "execution_count": 84,
     "metadata": {},
     "output_type": "execute_result"
    }
   ],
   "source": [
    "# Generate predictions\n",
    "y_test_pred = make_predictions(\n",
    "    data_filepath= file,\n",
    "    model_filepath= model_name,\n",
    ")\n",
    "\n",
    "print(\"predictions shape:\", y_test_pred.shape)\n",
    "y_test_pred.head()"
   ]
  }
 ],
 "metadata": {
  "kernelspec": {
   "display_name": "Python 3 (ipykernel)",
   "language": "python",
   "name": "python3"
  },
  "language_info": {
   "codemirror_mode": {
    "name": "ipython",
    "version": 3
   },
   "file_extension": ".py",
   "mimetype": "text/x-python",
   "name": "python",
   "nbconvert_exporter": "python",
   "pygments_lexer": "ipython3",
   "version": "3.9.13"
  },
  "toc-autonumbering": true
 },
 "nbformat": 4,
 "nbformat_minor": 5
}
