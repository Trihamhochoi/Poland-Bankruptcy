{
 "cells": [
  {
   "cell_type": "markdown",
   "id": "3e7d1543-453e-418d-aad5-5858ef4cf88d",
   "metadata": {},
   "source": [
    "# Data Dictionary"
   ]
  },
  {
   "cell_type": "markdown",
   "id": "53b5aafd-488b-4700-a371-103737edb0dd",
   "metadata": {},
   "source": [
    "## Poland Brankrupcy Data"
   ]
  },
  {
   "cell_type": "markdown",
   "id": "d1eb8219-1b57-4e74-8c42-b90f94e9d550",
   "metadata": {},
   "source": [
    "Below is a summary of the features from the [Poland bankruptcy dataset](https://archive.ics.uci.edu/ml/datasets/Polish+companies+bankruptcy+data). "
   ]
  },
  {
   "cell_type": "markdown",
   "id": "3d6f1c6b-909a-470b-9ec0-0ff491178a09",
   "metadata": {},
   "source": [
    "| feature    | description                                                                                                         |  \n",
    "| :--------- | :------------------------------------------------------------------------------------------------------------------ |  \n",
    "| **feat_1**  | net profit / total assets                                                                                           |  \n",
    "| **feat_2**  | total liabilities / total assets                                                                                    |  \n",
    "| **feat_3**  | working capital / total assets                                                                                      |  \n",
    "| **feat_4**  | current assets / short-term liabilities                                                                             |  \n",
    "| **feat_5**  | [(cash + short-term securities + receivables - short-term liabilities) / (operating expenses - depreciation)] * 365 |  \n",
    "| **feat_6**  | retained earnings / total assets                                                                                    |  \n",
    "| **feat_7**  | EBIT / total assets                                                                                                 |  \n",
    "| **feat_8**  | book value of equity / total liabilities                                                                            |  \n",
    "| **feat_9**  | sales / total assets                                                                                                |  \n",
    "| **feat_10** | equity / total assets                                                                                               |  \n",
    "| **feat_11** | (gross profit + extraordinary items + financial expenses) / total assets                                            |  \n",
    "| **feat_12** | gross profit / short-term liabilities                                                                               |  \n",
    "| **feat_13** | (gross profit + depreciation) / sales                                                                               |  \n",
    "| **feat_14** | (gross profit + interest) / total assets                                                                            |  \n",
    "| **feat_15** | (total liabilities * 365) / (gross profit + depreciation)                                                           |  \n",
    "| **feat_16** | (gross profit + depreciation) / total liabilities                                                                   |  \n",
    "| **feat_17** | total assets / total liabilities                                                                                    |  \n",
    "| **feat_18** | gross profit / total assets                                                                                         |  \n",
    "| **feat_19** | gross profit / sales                                                                                                |  \n",
    "| **feat_20** | (inventory * 365) / sales                                                                                           |  \n",
    "| **feat_21** | sales (n) / sales (n-1)                                                                                             |  \n",
    "| **feat_22** | profit on operating activities / total assets                                                                       |  \n",
    "| **feat_23** | net profit / sales                                                                                                  |  \n",
    "| **feat_24** | gross profit (in 3 years) / total assets                                                                            |  \n",
    "| **feat_25** | (equity - share capital) / total assets                                                                             |  \n",
    "| **feat_26** | (net profit + depreciation) / total liabilities                                                                     |  \n",
    "| **feat_27** | profit on operating activities / financial expenses                                                                 |  \n",
    "| **feat_28** | working capital / fixed assets                                                                                      |  \n",
    "| **feat_29** | logarithm of total assets                                                                                           |  \n",
    "| **feat_30** | (total liabilities - cash) / sales                                                                                  |  \n",
    "| **feat_31** | (gross profit + interest) / sales                                                                                   |  \n",
    "| **feat_32** | (current liabilities * 365) / cost of products sold                                                                 |  \n",
    "| **feat_33** | operating expenses / short-term liabilities                                                                         |  \n",
    "| **feat_34** | operating expenses / total liabilities                                                                              |  \n",
    "| **feat_35** | profit on sales / total assets                                                                                      |  \n",
    "| **feat_36** | total sales / total assets                                                                                          |  \n",
    "| **feat_37** | (current assets - inventories) / long-term liabilities                                                              |  \n",
    "| **feat_38** | constant capital / total assets                                                                                     |  \n",
    "| **feat_39** | profit on sales / sales                                                                                             |  \n",
    "| **feat_40** | (current assets - inventory - receivables) / short-term liabilities                                                 |  \n",
    "| **feat_41** | total liabilities / ((profit on operating activities + depreciation) * (12/365))                                    |  \n",
    "| **feat_42** | profit on operating activities / sales                                                                              |  \n",
    "| **feat_43** | rotation receivables + inventory turnover in days                                                                   |  \n",
    "| **feat_44** | (receivables * 365) / sales                                                                                         |  \n",
    "| **feat_45** | net profit / inventory                                                                                              |  \n",
    "| **feat_46** | (current assets - inventory) / short-term liabilities                                                               |  \n",
    "| **feat_47** | (inventory * 365) / cost of products sold                                                                           |  \n",
    "| **feat_48** | EBITDA (profit on operating activities - depreciation) / total assets                                               |  \n",
    "| **feat_49** | EBITDA (profit on operating activities - depreciation) / sales                                                      |  \n",
    "| **feat_50** | current assets / total liabilities                                                                                  |  \n",
    "| **feat_51** | short-term liabilities / total assets                                                                               |  \n",
    "| **feat_52** | (short-term liabilities * 365) / cost of products sold)                                                             |  \n",
    "| **feat_53** | equity / fixed assets                                                                                               |  \n",
    "| **feat_54** | constant capital / fixed assets                                                                                     |  \n",
    "| **feat_55** | working capital                                                                                                     |  \n",
    "| **feat_56** | (sales - cost of products sold) / sales                                                                             |  \n",
    "| **feat_57** | (current assets - inventory - short-term liabilities) / (sales - gross profit - depreciation)                       |  \n",
    "| **feat_58** | total costs /total sales                                                                                            |  \n",
    "| **feat_59** | long-term liabilities / equity                                                                                      |  \n",
    "| **feat_60** | sales / inventory                                                                                                   |  \n",
    "| **feat_61** | sales / receivables                                                                                                 |  \n",
    "| **feat_62** | (short-term liabilities *365) / sales                                                                               |  \n",
    "| **feat_63** | sales / short-term liabilities                                                                                      |  \n",
    "| **feat_64** | sales / fixed assets                                                                                                |  \n",
    "| **bankrupt** | Whether company went bankrupt at end of forecasting period (2013) |"
   ]
  },
  {
   "cell_type": "markdown",
   "id": "fddcd81f-d9c7-460b-be0e-ca6bb8d90aa0",
   "metadata": {},
   "source": []
  },
  {
   "cell_type": "markdown",
   "id": "abca7bbc-b1cc-4edf-821b-b3b21fb3d29a",
   "metadata": {},
   "source": []
  }
 ],
 "metadata": {
  "kernelspec": {
   "display_name": "Python 3 (ipykernel)",
   "language": "python",
   "name": "python3"
  },
  "language_info": {
   "codemirror_mode": {
    "name": "ipython",
    "version": 3
   },
   "file_extension": ".py",
   "mimetype": "text/x-python",
   "name": "python",
   "nbconvert_exporter": "python",
   "pygments_lexer": "ipython3",
   "version": "3.9.13"
  }
 },
 "nbformat": 4,
 "nbformat_minor": 5
}
